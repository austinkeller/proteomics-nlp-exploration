{
 "cells": [
  {
   "cell_type": "markdown",
   "metadata": {
    "collapsed": true
   },
   "source": [
    "# Exploring Proteomics Reproducibility with NLP\n",
    "\n",
    "_Austin Keller - University of Washington - 2019-05-15_\n",
    "\n",
    "I'm curious about what information is contained in the text descriptions of proteomics projects that can help in automatically reproducing work. Projects such as Param-Medic[1](https://www.ncbi.nlm.nih.gov/pubmed/28263070) attempt to automatically determine run parameters for peptide searches using only the raw experiment files. These parameters include experiment type or peptide modifications, which are inferred by searching the data for characteristic patterns. I've been working on a project where we try to extend this to automatically infer the species by searching a subset of the data and reporting the most likely match. However, this doesn't always succeed and even subset searches are time-consuming.\n",
    "\n",
    "I'd like to find out whether common NLP tools can automatically learn run parameters from the archive descriptions, abstracts, or even full papers. This could supplement tools like Param-Medic in ensuring reproducibility and standardizing proteomics computational workflows. It may also help in automatically categorizing the quality of the research done. Param-Medic failing to find paramameters or incorrectly classifying the data can be used to flag the data as possibly poor quality. I don't think this was an intended feature of Param-Medic but it could be a useful one for pruning poor quality data in large-scale studies. Maybe an exploration with NLP will also uncover unexpected useful heuristics.\n",
    "\n",
    "There are several archives I could use such as PRIDE, PanoramaPublic, MassIVE, and Chorus. There's also the meta-archive ProteomeXchange. I'm selecting PRIDE for this first investigation. The data is clean and well structured, there's a lot of it (7000+) experiments, and importantly there are long text descriptions that I can access directly through the API."
   ]
  },
  {
   "cell_type": "markdown",
   "metadata": {},
   "source": [
    "# Collecting the Raw Data\n",
    "\n",
    "This page provides an example of the information we can pull directly from PRIDE: https://www.ebi.ac.uk/pride/archive/projects/PXD009005\n",
    "\n",
    "There are 7000+ such experiments with descriptions and classifications (such as instrument type, experiment type, modifications) that we can try predicting. There are also links to the papers for each experiment, which we _could_ collect and process, but let's hold off on that for now.\n",
    "\n",
    "Let's get started and pull descriptions and experiment classifications from the PRIDE Archive REST API. It's a simple API and we could write it ourself using `requests` but there's a nice wrapper written by bioservices that appears to be complete.\n",
    "\n",
    "The URL for the API provides it's own interactive documentation: https://www.ebi.ac.uk/pride/ws/archive/\n",
    "The relevant code for bioservices, which appears to have all of the functions we want: https://github.com/cokelaer/bioservices/blob/master/src/bioservices/pride.py"
   ]
  },
  {
   "cell_type": "code",
   "execution_count": 36,
   "metadata": {},
   "outputs": [],
   "source": [
    "import pandas as pd\n",
    "from bioservices import PRIDE\n",
    "import sys"
   ]
  },
  {
   "cell_type": "code",
   "execution_count": 9,
   "metadata": {},
   "outputs": [],
   "source": [
    "pride = PRIDE()"
   ]
  },
  {
   "cell_type": "code",
   "execution_count": 17,
   "metadata": {},
   "outputs": [
    {
     "data": {
      "text/plain": [
       "7588"
      ]
     },
     "execution_count": 17,
     "metadata": {},
     "output_type": "execute_result"
    }
   ],
   "source": [
    "num_projects = pride.get_project_count()\n",
    "num_projects"
   ]
  },
  {
   "cell_type": "code",
   "execution_count": 18,
   "metadata": {},
   "outputs": [],
   "source": [
    "pride.get_project_list?"
   ]
  },
  {
   "cell_type": "code",
   "execution_count": 24,
   "metadata": {},
   "outputs": [
    {
     "data": {
      "text/plain": [
       "{'accession': 'PXD005994',\n",
       " 'title': 'Aspergillus fumigatus melanin manipulates the cargo and kinetics of neutrophil-derived extracellular vesicles',\n",
       " 'projectDescription': 'Neutrophil-derived extracellular vesicles have regained scientif',\n",
       " 'publicationDate': '2019-05-17',\n",
       " 'submissionType': 'PARTIAL',\n",
       " 'numAssays': 0,\n",
       " 'species': ['Neosartorya fumigata (Aspergillus fumigatus)'],\n",
       " 'tissues': [],\n",
       " 'ptmNames': ['iodoacetamide derivatized residue',\n",
       "  'TMT6plex-126 reporter+balance reagent acylated residue'],\n",
       " 'instrumentNames': ['Q Exactive'],\n",
       " 'projectTags': ['Biological', 'Biomedical']}"
      ]
     },
     "execution_count": 24,
     "metadata": {},
     "output_type": "execute_result"
    }
   ],
   "source": [
    "pride.get_project_list(show=10, page=0)[0]"
   ]
  },
  {
   "cell_type": "code",
   "execution_count": 23,
   "metadata": {},
   "outputs": [
    {
     "name": "stdout",
     "output_type": "stream",
     "text": [
      "1000\n",
      "2000\n",
      "3000\n",
      "4000\n",
      "5000\n",
      "6000\n",
      "7000\n",
      "7588\n"
     ]
    }
   ],
   "source": [
    "page_size = 1000\n",
    "project_list = []\n",
    "\n",
    "for offset in range(0, num_projects, page_size):\n",
    "    project_list.extend(pride.get_project_list(show=page_size, page=offset//page_size))\n",
    "    print(len(project_list))\n"
   ]
  },
  {
   "cell_type": "markdown",
   "metadata": {},
   "source": [
    "Great, we now have the full listing of accession numbers, which is what we're after. With these we can pull the experiment page data with full descriptions and classes"
   ]
  },
  {
   "cell_type": "code",
   "execution_count": 33,
   "metadata": {},
   "outputs": [
    {
     "data": {
      "text/plain": [
       "10"
      ]
     },
     "execution_count": 33,
     "metadata": {},
     "output_type": "execute_result"
    }
   ],
   "source": [
    "len(project_list[0:10])"
   ]
  },
  {
   "cell_type": "code",
   "execution_count": 41,
   "metadata": {},
   "outputs": [
    {
     "name": "stdout",
     "output_type": "stream",
     "text": [
      "7516/7588"
     ]
    },
    {
     "name": "stderr",
     "output_type": "stream",
     "text": [
      "CRITICAL[bioservices:PRIDE]:  HTTPSConnectionPool(host='www.ebi.ac.uk', port=443): Max retries exceeded with url: /pride/ws/archive/project/PRD000066 (Caused by ReadTimeoutError(\"HTTPSConnectionPool(host='www.ebi.ac.uk', port=443): Read timed out. (read timeout=30)\",))\n",
      "CRITICAL[bioservices:PRIDE]:  Issue. Maybe your current timeout is 30 is not sufficient. \n",
      "Consider increasing it with settings.TIMEOUT attribute\n"
     ]
    },
    {
     "name": "stdout",
     "output_type": "stream",
     "text": [
      "7588/7588"
     ]
    }
   ],
   "source": [
    "project_full_list = []\n",
    "\n",
    "for accession in map(lambda x: x['accession'], project_list[0:]):\n",
    "    project_full_list.append(pride.get_project(accession))\n",
    "    sys.stdout.write(\"\\r{}/{}\".format(len(project_full_list), len(project_list)))"
   ]
  },
  {
   "cell_type": "code",
   "execution_count": 51,
   "metadata": {},
   "outputs": [
    {
     "name": "stdout",
     "output_type": "stream",
     "text": [
      "7516\n"
     ]
    }
   ],
   "source": [
    "# Uh oh, looks like we might have failed transfers\n",
    "\n",
    "for i, c in enumerate(project_full_list):\n",
    "    if c is None:\n",
    "        print(i)"
   ]
  },
  {
   "cell_type": "code",
   "execution_count": 53,
   "metadata": {},
   "outputs": [
    {
     "name": "stderr",
     "output_type": "stream",
     "text": [
      "CRITICAL[bioservices:PRIDE]:  HTTPSConnectionPool(host='www.ebi.ac.uk', port=443): Max retries exceeded with url: /pride/ws/archive/project/PRD000066 (Caused by ReadTimeoutError(\"HTTPSConnectionPool(host='www.ebi.ac.uk', port=443): Read timed out. (read timeout=30)\",))\n",
      "CRITICAL[bioservices:PRIDE]:  Issue. Maybe your current timeout is 30 is not sufficient. \n",
      "Consider increasing it with settings.TIMEOUT attribute\n"
     ]
    }
   ],
   "source": [
    "# Yep, let's add those in manually\n",
    "project_full_list[7516] = pride.get_project(project_list[7516]['accession'])"
   ]
  },
  {
   "cell_type": "code",
   "execution_count": 56,
   "metadata": {},
   "outputs": [
    {
     "name": "stdout",
     "output_type": "stream",
     "text": [
      "None\n",
      "{'accession': 'PRD000066', 'title': 'Quantitative Proteomics Analysis of the Secretory Pathway', 'projectDescription': 'Not available', 'publicationDate': '2009-06-16', 'submissionType': 'PRIDE', 'numAssays': 4090, 'species': ['Rattus norvegicus (Rat)'], 'tissues': [], 'ptmNames': [], 'instrumentNames': ['Not Specified'], 'projectTags': []}\n"
     ]
    }
   ],
   "source": [
    "print(project_full_list[7516])\n",
    "print(project_list[7516])"
   ]
  },
  {
   "cell_type": "code",
   "execution_count": 61,
   "metadata": {},
   "outputs": [],
   "source": [
    "# Nevermind, looks like that project is just no good. Let's remove that project from the list and keep going"
   ]
  },
  {
   "cell_type": "code",
   "execution_count": 62,
   "metadata": {},
   "outputs": [],
   "source": [
    "import copy\n",
    "pfl_bak = copy.deepcopy(project_full_list)"
   ]
  },
  {
   "cell_type": "code",
   "execution_count": 63,
   "metadata": {},
   "outputs": [
    {
     "name": "stdout",
     "output_type": "stream",
     "text": [
      "7587\n"
     ]
    }
   ],
   "source": [
    "pfl_trim = project_full_list[:7516] + project_full_list[7517:]\n",
    "print(len(pfl_trim))"
   ]
  },
  {
   "cell_type": "code",
   "execution_count": 67,
   "metadata": {},
   "outputs": [
    {
     "data": {
      "text/plain": [
       "7587"
      ]
     },
     "execution_count": 67,
     "metadata": {},
     "output_type": "execute_result"
    }
   ],
   "source": [
    "len(pfl_trim)"
   ]
  },
  {
   "cell_type": "code",
   "execution_count": 80,
   "metadata": {},
   "outputs": [],
   "source": [
    "# Let's save this data so that we don't have to transfer again\n",
    "import pickle\n",
    "\n",
    "with open('raw/PRIDE_projects_raw_download.pkl', 'wb') as f:\n",
    "    pickle.dump(pfl_trim, f)"
   ]
  },
  {
   "cell_type": "code",
   "execution_count": 81,
   "metadata": {},
   "outputs": [
    {
     "name": "stdout",
     "output_type": "stream",
     "text": [
      "7587\n"
     ]
    }
   ],
   "source": [
    "with open('raw/PRIDE_projects_raw_download.pkl', 'rb') as f:\n",
    "    pfl_loaded = pickle.load(f)\n",
    "\n",
    "print(len(pfl_loaded))"
   ]
  },
  {
   "cell_type": "code",
   "execution_count": 82,
   "metadata": {},
   "outputs": [],
   "source": [
    "# Now let's try to save it in a more structured format by wrangling it into a pandas dataframe"
   ]
  },
  {
   "cell_type": "code",
   "execution_count": 71,
   "metadata": {},
   "outputs": [
    {
     "name": "stdout",
     "output_type": "stream",
     "text": [
      "{'accession': 'PXD005994',\n",
      " 'title': 'Aspergillus fumigatus melanin manipulates the cargo and kinetics of '\n",
      "          'neutrophil-derived extracellular vesicles',\n",
      " 'projectDescription': 'Neutrophil-derived extracellular vesicles have '\n",
      "                       'regained scientific interest as potent ‘wireless’ '\n",
      "                       'modulators with pleiotropic effects on the immune '\n",
      "                       'system. A few studies have addressed their role in the '\n",
      "                       'context of microbial pathogenesis showing their '\n",
      "                       'bacteriostatic effects against Staphylococcus aureus '\n",
      "                       'in vitro and their potential as diagnostic markers in '\n",
      "                       'the onset of bacterimic sepsis in vivo. Here, we '\n",
      "                       'provided first insights into the vesicle release '\n",
      "                       'driven by the clinically relevant pathogenic fungus '\n",
      "                       'Aspergillus fumigatus that causes invasive infections '\n",
      "                       'in immunocompromised individuals worldwide often with '\n",
      "                       'a lethal outcome. Neutrophils, stimulated with fungal '\n",
      "                       'spores, potently produced vesicles that we refer as '\n",
      "                       'anti-fungal extracellular vesicles (afEVs). We '\n",
      "                       'revealed that the conidial surface pigment of A. '\n",
      "                       'fumigatus dihydroxynaphthalene (DHN) melanin - a well '\n",
      "                       'known fungal virulence factor - is a key '\n",
      "                       '‘switch-on/off’ governing vesicle production. We '\n",
      "                       'profiled the kinetics of afEV formation and showed '\n",
      "                       'that DHN-melanin interferes with the vesicle number, '\n",
      "                       'vesicle surface maturation markers such as CD11b, CD63 '\n",
      "                       'and CD177 and governs the enrichment of distinct afEV '\n",
      "                       'subpopulations unrelated to apoptosis. Simultaneously '\n",
      "                       'we tracked down the fate of neutrophils during afEV '\n",
      "                       'formation and observed mulivesicular body formation '\n",
      "                       'that led to active export of CD11b, CD63 and CD177 by '\n",
      "                       'shedding from the surface of neutrophils onto the '\n",
      "                       'surface afEVs. By dissecting the proteome cargo of '\n",
      "                       'afEVs produced against wild-type and melanin-free '\n",
      "                       'conidia we verified that DHN-melanin also manipulates '\n",
      "                       'the type of cargo neutrophils accumulate in the '\n",
      "                       'vesicles upon confronting conidia with different cell '\n",
      "                       'wall integrity. afEVs contained higher amounts of '\n",
      "                       'antimicrobial peptides than spontaneously released EVs '\n",
      "                       'from uninfected neutrophils. Last but not least afEVs '\n",
      "                       'exhibit fungistatic effects and also modulate cell '\n",
      "                       'wall morphogenesis of hyphae.',\n",
      " 'publicationDate': '2019-05-17',\n",
      " 'submissionType': 'PARTIAL',\n",
      " 'numAssays': 0,\n",
      " 'species': ['Neosartorya fumigata (Aspergillus fumigatus)'],\n",
      " 'tissues': [],\n",
      " 'ptmNames': ['iodoacetamide derivatized residue',\n",
      "              'TMT6plex-126 reporter+balance reagent acylated residue'],\n",
      " 'instrumentNames': ['Q Exactive'],\n",
      " 'projectTags': ['Biological', 'Biomedical'],\n",
      " 'doi': None,\n",
      " 'submitter': {'title': 'Dr',\n",
      "               'firstName': 'Thomas',\n",
      "               'lastName': 'Krüger',\n",
      "               'email': 'thomas.krueger@leibniz-hki.de',\n",
      "               'affiliation': 'Leibniz Institute for Natural Product Research '\n",
      "                              'and Infection Biology - Hans Knöll Institute'},\n",
      " 'labHeads': [{'title': 'Dr',\n",
      "               'firstName': 'Axel A.',\n",
      "               'lastName': 'Brakhage',\n",
      "               'email': 'axel.brakhage@leibniz-hki.de',\n",
      "               'affiliation': 'Institute for Microbiology, Friedrich Schiller '\n",
      "                              'University, Jena, Germany and Department of '\n",
      "                              'Molecular and Applied Microbiology, Leibniz '\n",
      "                              'Institute for Natural Product and Infection '\n",
      "                              'Biology (HKI), Hans Knöll Institute, Jena, '\n",
      "                              'Germany'}],\n",
      " 'submissionDate': '2017-03-01',\n",
      " 'reanalysis': None,\n",
      " 'experimentTypes': ['Shotgun proteomics'],\n",
      " 'quantificationMethods': ['TMT'],\n",
      " 'keywords': 'neutrophils, antifungal extracellular vesicles, Aspergillus '\n",
      "             'fumigatus, melanin',\n",
      " 'sampleProcessingProtocol': 'Purified ectosomes from 20 different donors were '\n",
      "                             'combined and resuspended in HBSS and stored at '\n",
      "                             '-80°C for no longer than 1 week prior to protein '\n",
      "                             'extraction. Ectosome suspensions from the same '\n",
      "                             'group were combined and loaded onto 3 kDa MWCO '\n",
      "                             'centrifugal filters and centrifuged for 5 min, '\n",
      "                             '14 000 rpm, 4°C. The volume of the retenate was '\n",
      "                             'measured and transferred into fresh 1.5 mL '\n",
      "                             'Eppendorf tubes. Samples were snap frozen in '\n",
      "                             'liquid N2 and delipidated and precipitated by '\n",
      "                             'MeOH/chloroform/H2O precipitation. The protein '\n",
      "                             'precipitate was resolubilized in 50 µL 50 mM '\n",
      "                             'TEAB and 50% Trifluoroethanol buffer via '\n",
      "                             'sonication on a water bath sonicator at RT for '\n",
      "                             '15 min. Reconstitution was followed by heat '\n",
      "                             'denaturation step on a thermoblock (Eppendorf) '\n",
      "                             'for 10 min at 90°C and 400 rpm. Samples were '\n",
      "                             'briefly cooled down on ice for 5 min. Protein '\n",
      "                             'quantification was performed using the '\n",
      "                             'assay-free Direct Detect® infrared spectrometer '\n",
      "                             '(Merck Millipore). Equal amounts of proteins '\n",
      "                             '(25-100 µg) were diluted in 100 mM TEAB to a '\n",
      "                             'final volume of 100 µL. Proteins were reduced '\n",
      "                             'with 2 µL 500 mM TCEP in 100 mM TEAB buffer at '\n",
      "                             '55°C, 60 min, cooled down to RT and alkylated '\n",
      "                             'with 5µL freshly prepared alkylation buffer (625 '\n",
      "                             'mM IAA in 100 mM TEAB) at RT for 30 min in the '\n",
      "                             'dark. A second clean-up with MeOH/chloroform/H2O '\n",
      "                             'extraction has been performed as described '\n",
      "                             'above. Successively, proteins were digested for '\n",
      "                             '2h, 37°C with Lys C protease (Promega) and 16h '\n",
      "                             'at 37°C with Trypsin Gold (Promega).  For TMT '\n",
      "                             'labeling digested peptides were directly '\n",
      "                             'subjected to labeling with the 6-plex labeling '\n",
      "                             'Kit (Thermo Fisher Scientific) according to the '\n",
      "                             'manufacturer’s instructions (126: WT1, 127: WT2, '\n",
      "                             '128: ΔpksP1, 129: ΔpksP2, 130: sEV1, 131: sEV2). '\n",
      "                             'Labelled peptides were pooled and fractionated '\n",
      "                             'offline by solid phase extraction (SPE) on '\n",
      "                             'cation exchange columns HyperSep SCX 50mg '\n",
      "                             '(Thermo Fisher Scientific). The following '\n",
      "                             'fractions have been collected: F0 (25% ACN, '\n",
      "                             '0.05% HCOOH), F1 (F0 + 25mM NH4HCO3), F2 (F0 + '\n",
      "                             '50mM NH4HCO3), F3 (F0 + 100mM NH4HCO3), F4 (F0 + '\n",
      "                             '400mM NH4HCO3). Fractions F0-F4 were evaporated '\n",
      "                             'until dryness using a SpeedVac. TMT-labeled '\n",
      "                             'tryptic peptides were reconstituted in 25 µL of '\n",
      "                             '0.05 % TFA and 2 % ACN and sonicated for 15 '\n",
      "                             'minutes at RT in a waterbath sonicator. Prior '\n",
      "                             'to  nLC-MS/MS analysis peptides were filtered '\n",
      "                             'through 10 KDa MWCO PES membrane centrifugal '\n",
      "                             'filters (VWR International) via centrifugation '\n",
      "                             'at 14\\xa0000 rpm for 15 minutes.  LC-MS/MS '\n",
      "                             'analysis was carried out on an Ultimate 3000 '\n",
      "                             'nano RSLC system coupled to a QExactive Plus '\n",
      "                             'mass spectrometer (both Thermo Fisher '\n",
      "                             'Scientific). Three LC-MS/MS runs were applied as '\n",
      "                             'analytical replicates (1 µL injection volume) '\n",
      "                             'for each SCX fraction. Peptides were enriched '\n",
      "                             'and desalted online based on a pre-concentration '\n",
      "                             'set-up using a nano trap column (Acclaim Pep Map '\n",
      "                             '100, 2 cm x 75 µm, 3 µm) at a flow rate of 5 '\n",
      "                             'µL/min. After 4 min, a valve switch was '\n",
      "                             'performed to elute the pre-concentrated peptides '\n",
      "                             'onto the analytical column. For separation of '\n",
      "                             'peptides, an Acclaim Pep Map RSLC column (50 cm '\n",
      "                             'x 75 µm, 2 µm) was used as stationary phase '\n",
      "                             '(Thermo Fisher Scientific). The binary mobile '\n",
      "                             'phase consisting of A) 0.1% (v/v) formic acid in '\n",
      "                             'H2O and B) 0.1% (v/v) formic acid in 90/10 '\n",
      "                             'ACN/H2O  was applied for ultralong 10 h gradient '\n",
      "                             'elution: 0-4 min at 4% B, 15 min at 5.5% B, 30 '\n",
      "                             'min at 6.5% B, 220 min at 12.5% B, 300 min at '\n",
      "                             '17% B,  400 min at 26% B,  450 min at 35% B, 475 '\n",
      "                             'min at 42% B, 490 min at 51% B, 500 min at 60% '\n",
      "                             'B, 515-529 min at 96% B, 530-600 min at 4% B. LC '\n",
      "                             'performance was routinely checked by cytochrome '\n",
      "                             'C standard digest and blind injections prior and '\n",
      "                             'after analysis and by monitoring UV absorption '\n",
      "                             'at λ = 214 nm during analysis. The Nanospray '\n",
      "                             'Flex Ion Source (Thermo Fisher Scientific) '\n",
      "                             'provided with a stainless steel emitter was used '\n",
      "                             'to generate positively charged ions at 2.2 kV '\n",
      "                             'spray voltage. The capillary temperature was set '\n",
      "                             'to 220 °C and the S-lens RV level to 50. The '\n",
      "                             'hybrid quadrupole/orbitrap mass analyser was '\n",
      "                             'operated in Full MS / dd MS2 (TopN) mode. '\n",
      "                             'Precursor ions were measured in full scan mode '\n",
      "                             'within a mass range of m/z 300-1500 at a '\n",
      "                             'resolution of 140k FWHM using a maximum '\n",
      "                             'injection time of 120 ms and an AGC (automatic '\n",
      "                             'gain control) target of 3e6 (TMT)/ 1e6 (LFQ). '\n",
      "                             'For data-dependent acquisition, up to 10 most '\n",
      "                             'abundant precursor ions per scan cycle with an '\n",
      "                             'assigned charge state of z = 2-5 were selected '\n",
      "                             'in the quadrupole for further fragmentation '\n",
      "                             'using an isolation width of m/z 0.8 (TMT) / m/z '\n",
      "                             '2.0 (LFQ). Fragment ions were generated in the '\n",
      "                             'HCD cell at a normalized collision energy of 36 '\n",
      "                             'V (TMT) /30 V (LFQ) using nitrogen gas. Dynamic '\n",
      "                             'exclusion of precursor ions was set to 40 s. '\n",
      "                             'Fragment ions were monitored at a resolution of '\n",
      "                             '17.5k (FWHM) using a maximum injection time of '\n",
      "                             '120 ms and an AGC target of 2e5. The fixed first '\n",
      "                             'mass was set to m/z 100 (TMT) / m/z 120 (LFQ).',\n",
      " 'dataProcessingProtocol': 'Protein database search and reporter ion '\n",
      "                           'quantification  Thermo raw files were processed by '\n",
      "                           'the Proteome Discoverer (PD) software v2.1 '\n",
      "                           '(Thermo). Tandem mass spectra were searched '\n",
      "                           'against the UniProt protein database of Homo '\n",
      "                           'sapiens; status: 2016/08/22) using the algorithms '\n",
      "                           'of Mascot v2.4.1 (Matrix Science, UK), Sequest HT '\n",
      "                           'and MS Amanda. Two missed cleavages were allowed '\n",
      "                           'for tryptic peptides. The precursor mass tolerance '\n",
      "                           'was set to 10 ppm and the fragment mass tolerance '\n",
      "                           'was set to 0.02 Da. Dynamic modifications were '\n",
      "                           'oxidation of Met and for the label-based '\n",
      "                           'quantitation experiment TMT-6plex reaction on Tyr '\n",
      "                           '(not considered for quantification). Static '\n",
      "                           'modifications were based on the '\n",
      "                           'carbamidomethylation of Cys by iodoacetamide and '\n",
      "                           'TMT-6plex reactions on Lys and the peptide '\n",
      "                           'N-terminus for reporter ion quantitation. '\n",
      "                           'Percolator node and a reverse decoy database was '\n",
      "                           'used for (qvalue) validation of the peptide '\n",
      "                           'spectral matches (PSMs) using a maximum Delta CN '\n",
      "                           'of 0.05 and a strict target false discovery (FDR) '\n",
      "                           'rate of < 1%. At least 2 peptides per protein were '\n",
      "                           'required for positive protein hits. TMT '\n",
      "                           'quantification was restricted to an integration '\n",
      "                           'tolerance of 5 ppm using the most confident '\n",
      "                           'centroid and a co-isolation threshold of <25%. TMT '\n",
      "                           'reporter ion ratios were calculated as follows : '\n",
      "                           '127/126, 129/128, 131/130,  (128+129)/(126+127), '\n",
      "                           '(126+127)/(130+131), and (128+129)/(130+131). The '\n",
      "                           'reporter ion abundance values were normalized '\n",
      "                           'based on the total peptide amount. Only unique '\n",
      "                           'peptides were considered for quantification. Quan '\n",
      "                           'channel correction was applied and the reporter '\n",
      "                           'ion ratios were normalized based on the protein '\n",
      "                           'median. The significance threshold for '\n",
      "                           'differential protein regulation was set to factor '\n",
      "                           '≥1.5 (up- or down-regulation) based on a reporter '\n",
      "                           'ion count of at least 3. Label-free quantification '\n",
      "                           'was performed by two different methods: 1.) The '\n",
      "                           'Precursor Ions Area - Top3 method compares the 3 '\n",
      "                           'most abundant peptides of each protein by using  '\n",
      "                           'the peak area of the respective  precursor ion. '\n",
      "                           'The mass tolerance was set to 2 ppm and the '\n",
      "                           'signal-to-noise ratio should be >3. For the 2.) '\n"
     ]
    },
    {
     "name": "stdout",
     "output_type": "stream",
     "text": [
      "                           'OpenMS method a max. retention time difference of '\n",
      "                           '0.33 min, a max. m/z difference of 10 ppm, a '\n",
      "                           'q-value threshold of 0.01 and a protein level '\n",
      "                           'false discovery rate of <0.05 was used. The '\n",
      "                           'abundance values were normalized based on the '\n",
      "                           'total peptide amount. Only unique peptides were '\n",
      "                           'considered for quantification. The significance '\n",
      "                           'threshold for differential protein regulation was '\n",
      "                           'set to factor ≥2.0 (up- or down-regulation).',\n",
      " 'otherOmicsLink': None,\n",
      " 'numProteins': 0,\n",
      " 'numPeptides': 0,\n",
      " 'numSpectra': 0,\n",
      " 'numUniquePeptides': 0,\n",
      " 'numIdentifiedSpectra': 0,\n",
      " 'references': []}\n"
     ]
    }
   ],
   "source": [
    "import pprint\n",
    "\n",
    "pprint.sorted = lambda x, key=None: x\n",
    "pprint.pprint(pfl_trim[0])"
   ]
  },
  {
   "cell_type": "code",
   "execution_count": 40,
   "metadata": {},
   "outputs": [],
   "source": [
    "# The following code fails to run because there's missing data at index 2972. Let's trim that piece out too\n",
    "#pd.DataFrame(pfl_trim)"
   ]
  },
  {
   "cell_type": "code",
   "execution_count": 105,
   "metadata": {},
   "outputs": [
    {
     "data": {
      "text/html": [
       "<div>\n",
       "<style scoped>\n",
       "    .dataframe tbody tr th:only-of-type {\n",
       "        vertical-align: middle;\n",
       "    }\n",
       "\n",
       "    .dataframe tbody tr th {\n",
       "        vertical-align: top;\n",
       "    }\n",
       "\n",
       "    .dataframe thead th {\n",
       "        text-align: right;\n",
       "    }\n",
       "</style>\n",
       "<table border=\"1\" class=\"dataframe\">\n",
       "  <thead>\n",
       "    <tr style=\"text-align: right;\">\n",
       "      <th></th>\n",
       "      <th>0</th>\n",
       "    </tr>\n",
       "  </thead>\n",
       "  <tbody>\n",
       "    <tr>\n",
       "      <th>0</th>\n",
       "      <td>401</td>\n",
       "    </tr>\n",
       "  </tbody>\n",
       "</table>\n",
       "</div>"
      ],
      "text/plain": [
       "     0\n",
       "0  401"
      ]
     },
     "execution_count": 105,
     "metadata": {},
     "output_type": "execute_result"
    }
   ],
   "source": [
    "pd.DataFrame([pfl_trim[2972]])"
   ]
  },
  {
   "cell_type": "code",
   "execution_count": 110,
   "metadata": {},
   "outputs": [
    {
     "name": "stdout",
     "output_type": "stream",
     "text": [
      "7587\n",
      "7586\n"
     ]
    }
   ],
   "source": [
    "print(len(pfl_trim))\n",
    "print(len(pfl_trim[:2972] + pfl_trim[2973:]))\n",
    "pfl_trim_2 = pfl_trim[:2972] + pfl_trim[2973:]"
   ]
  },
  {
   "cell_type": "code",
   "execution_count": 113,
   "metadata": {},
   "outputs": [],
   "source": [
    "df = pd.DataFrame(pfl_trim_2)"
   ]
  },
  {
   "cell_type": "code",
   "execution_count": 114,
   "metadata": {},
   "outputs": [
    {
     "data": {
      "text/html": [
       "<div>\n",
       "<style scoped>\n",
       "    .dataframe tbody tr th:only-of-type {\n",
       "        vertical-align: middle;\n",
       "    }\n",
       "\n",
       "    .dataframe tbody tr th {\n",
       "        vertical-align: top;\n",
       "    }\n",
       "\n",
       "    .dataframe thead th {\n",
       "        text-align: right;\n",
       "    }\n",
       "</style>\n",
       "<table border=\"1\" class=\"dataframe\">\n",
       "  <thead>\n",
       "    <tr style=\"text-align: right;\">\n",
       "      <th></th>\n",
       "      <th>accession</th>\n",
       "      <th>dataProcessingProtocol</th>\n",
       "      <th>doi</th>\n",
       "      <th>experimentTypes</th>\n",
       "      <th>instrumentNames</th>\n",
       "      <th>keywords</th>\n",
       "      <th>labHeads</th>\n",
       "      <th>numAssays</th>\n",
       "      <th>numIdentifiedSpectra</th>\n",
       "      <th>numPeptides</th>\n",
       "      <th>...</th>\n",
       "      <th>quantificationMethods</th>\n",
       "      <th>reanalysis</th>\n",
       "      <th>references</th>\n",
       "      <th>sampleProcessingProtocol</th>\n",
       "      <th>species</th>\n",
       "      <th>submissionDate</th>\n",
       "      <th>submissionType</th>\n",
       "      <th>submitter</th>\n",
       "      <th>tissues</th>\n",
       "      <th>title</th>\n",
       "    </tr>\n",
       "  </thead>\n",
       "  <tbody>\n",
       "    <tr>\n",
       "      <th>0</th>\n",
       "      <td>PXD005994</td>\n",
       "      <td>Protein database search and reporter ion quant...</td>\n",
       "      <td>None</td>\n",
       "      <td>[Shotgun proteomics]</td>\n",
       "      <td>[Q Exactive]</td>\n",
       "      <td>neutrophils, antifungal extracellular vesicles...</td>\n",
       "      <td>[{'title': 'Dr', 'firstName': 'Axel A.', 'last...</td>\n",
       "      <td>0</td>\n",
       "      <td>0</td>\n",
       "      <td>0</td>\n",
       "      <td>...</td>\n",
       "      <td>[TMT]</td>\n",
       "      <td>None</td>\n",
       "      <td>[]</td>\n",
       "      <td>Purified ectosomes from 20 different donors we...</td>\n",
       "      <td>[Neosartorya fumigata (Aspergillus fumigatus)]</td>\n",
       "      <td>2017-03-01</td>\n",
       "      <td>PARTIAL</td>\n",
       "      <td>{'title': 'Dr', 'firstName': 'Thomas', 'lastNa...</td>\n",
       "      <td>[]</td>\n",
       "      <td>Aspergillus fumigatus melanin manipulates the ...</td>\n",
       "    </tr>\n",
       "    <tr>\n",
       "      <th>1</th>\n",
       "      <td>PXD011176</td>\n",
       "      <td>Protein sample were loaded onto SDS-PAGE gel, ...</td>\n",
       "      <td>None</td>\n",
       "      <td>[Shotgun proteomics]</td>\n",
       "      <td>[Q Exactive]</td>\n",
       "      <td>Pseudostuga, embryonal mass, non-embryogenic c...</td>\n",
       "      <td>[{'title': 'Dr', 'firstName': 'Stephane', 'las...</td>\n",
       "      <td>0</td>\n",
       "      <td>0</td>\n",
       "      <td>0</td>\n",
       "      <td>...</td>\n",
       "      <td>[Label free]</td>\n",
       "      <td>None</td>\n",
       "      <td>[{'desc': 'Gautier F, Label P, Eliášová K, Lep...</td>\n",
       "      <td>Soluble proteins extracts were prepared from f...</td>\n",
       "      <td>[Pseudotsuga menziesii]</td>\n",
       "      <td>2018-09-24</td>\n",
       "      <td>PARTIAL</td>\n",
       "      <td>{'title': 'Dr', 'firstName': 'Claverol', 'last...</td>\n",
       "      <td>[embryo]</td>\n",
       "      <td>Cytological, biochemical and molecular events ...</td>\n",
       "    </tr>\n",
       "    <tr>\n",
       "      <th>2</th>\n",
       "      <td>PXD013341</td>\n",
       "      <td>Data processing of IDA-data  The ten data file...</td>\n",
       "      <td>None</td>\n",
       "      <td>[SWATH MS]</td>\n",
       "      <td>[TripleTOF 5600]</td>\n",
       "      <td>Non-canonical amino acid labelling, tauopathy,...</td>\n",
       "      <td>[{'title': 'Dr', 'firstName': 'Professor Jürge...</td>\n",
       "      <td>0</td>\n",
       "      <td>0</td>\n",
       "      <td>0</td>\n",
       "      <td>...</td>\n",
       "      <td>[SWATH MS]</td>\n",
       "      <td>None</td>\n",
       "      <td>[]</td>\n",
       "      <td>One brain hemisphere from each mouse was snap-...</td>\n",
       "      <td>[Mus musculus (Mouse)]</td>\n",
       "      <td>2019-05-16</td>\n",
       "      <td>PARTIAL</td>\n",
       "      <td>{'title': 'Mr', 'firstName': 'Harrison', 'last...</td>\n",
       "      <td>[brain]</td>\n",
       "      <td>Decreased synthesis of ribosomal proteins in t...</td>\n",
       "    </tr>\n",
       "    <tr>\n",
       "      <th>3</th>\n",
       "      <td>PXD012043</td>\n",
       "      <td>Raw data were converted to mzXML and mapped vi...</td>\n",
       "      <td>None</td>\n",
       "      <td>[Shotgun proteomics]</td>\n",
       "      <td>[Orbitrap Fusion Lumos]</td>\n",
       "      <td>drug adaptation, tyrosine kinase inhibitor, hu...</td>\n",
       "      <td>[{'title': 'Dr', 'firstName': 'Peter K.', 'las...</td>\n",
       "      <td>0</td>\n",
       "      <td>0</td>\n",
       "      <td>0</td>\n",
       "      <td>...</td>\n",
       "      <td>[TMT]</td>\n",
       "      <td>None</td>\n",
       "      <td>[{'desc': 'Wang H, Sheehan RP, Palmer AC, Ever...</td>\n",
       "      <td>hiPSC-CMs were cultured in 60 mm plates, then ...</td>\n",
       "      <td>[Homo sapiens (Human)]</td>\n",
       "      <td>2018-12-13</td>\n",
       "      <td>PARTIAL</td>\n",
       "      <td>{'title': 'Mr', 'firstName': 'Matthew', 'lastN...</td>\n",
       "      <td>[heart]</td>\n",
       "      <td>Total protein profiles of human induced plurip...</td>\n",
       "    </tr>\n",
       "    <tr>\n",
       "      <th>4</th>\n",
       "      <td>PXD013183</td>\n",
       "      <td>The MaxQuant software package version 1.5.1.2 ...</td>\n",
       "      <td>None</td>\n",
       "      <td>[Affinity purification coupled with mass spect...</td>\n",
       "      <td>[Q Exactive]</td>\n",
       "      <td>Proximity-dependent biotinylation; TurboID; ye...</td>\n",
       "      <td>[{'title': 'Dr', 'firstName': 'Francois', 'las...</td>\n",
       "      <td>0</td>\n",
       "      <td>0</td>\n",
       "      <td>0</td>\n",
       "      <td>...</td>\n",
       "      <td>[]</td>\n",
       "      <td>None</td>\n",
       "      <td>[{'desc': 'Larochelle M, Bergeron D, Arcand B,...</td>\n",
       "      <td>Trypsin digested samples were analyzed by liqu...</td>\n",
       "      <td>[Schizosaccharomyces pombe 927]</td>\n",
       "      <td>2019-03-21</td>\n",
       "      <td>PARTIAL</td>\n",
       "      <td>{'title': 'Mr', 'firstName': 'Danny', 'lastNam...</td>\n",
       "      <td>[]</td>\n",
       "      <td>Proximity-dependent biotinylation by TurboID t...</td>\n",
       "    </tr>\n",
       "  </tbody>\n",
       "</table>\n",
       "<p>5 rows × 28 columns</p>\n",
       "</div>"
      ],
      "text/plain": [
       "   accession                             dataProcessingProtocol   doi  \\\n",
       "0  PXD005994  Protein database search and reporter ion quant...  None   \n",
       "1  PXD011176  Protein sample were loaded onto SDS-PAGE gel, ...  None   \n",
       "2  PXD013341  Data processing of IDA-data  The ten data file...  None   \n",
       "3  PXD012043  Raw data were converted to mzXML and mapped vi...  None   \n",
       "4  PXD013183  The MaxQuant software package version 1.5.1.2 ...  None   \n",
       "\n",
       "                                     experimentTypes          instrumentNames  \\\n",
       "0                               [Shotgun proteomics]             [Q Exactive]   \n",
       "1                               [Shotgun proteomics]             [Q Exactive]   \n",
       "2                                         [SWATH MS]         [TripleTOF 5600]   \n",
       "3                               [Shotgun proteomics]  [Orbitrap Fusion Lumos]   \n",
       "4  [Affinity purification coupled with mass spect...             [Q Exactive]   \n",
       "\n",
       "                                            keywords  \\\n",
       "0  neutrophils, antifungal extracellular vesicles...   \n",
       "1  Pseudostuga, embryonal mass, non-embryogenic c...   \n",
       "2  Non-canonical amino acid labelling, tauopathy,...   \n",
       "3  drug adaptation, tyrosine kinase inhibitor, hu...   \n",
       "4  Proximity-dependent biotinylation; TurboID; ye...   \n",
       "\n",
       "                                            labHeads  numAssays  \\\n",
       "0  [{'title': 'Dr', 'firstName': 'Axel A.', 'last...          0   \n",
       "1  [{'title': 'Dr', 'firstName': 'Stephane', 'las...          0   \n",
       "2  [{'title': 'Dr', 'firstName': 'Professor Jürge...          0   \n",
       "3  [{'title': 'Dr', 'firstName': 'Peter K.', 'las...          0   \n",
       "4  [{'title': 'Dr', 'firstName': 'Francois', 'las...          0   \n",
       "\n",
       "   numIdentifiedSpectra  numPeptides  \\\n",
       "0                     0            0   \n",
       "1                     0            0   \n",
       "2                     0            0   \n",
       "3                     0            0   \n",
       "4                     0            0   \n",
       "\n",
       "                         ...                          quantificationMethods  \\\n",
       "0                        ...                                          [TMT]   \n",
       "1                        ...                                   [Label free]   \n",
       "2                        ...                                     [SWATH MS]   \n",
       "3                        ...                                          [TMT]   \n",
       "4                        ...                                             []   \n",
       "\n",
       "   reanalysis                                         references  \\\n",
       "0        None                                                 []   \n",
       "1        None  [{'desc': 'Gautier F, Label P, Eliášová K, Lep...   \n",
       "2        None                                                 []   \n",
       "3        None  [{'desc': 'Wang H, Sheehan RP, Palmer AC, Ever...   \n",
       "4        None  [{'desc': 'Larochelle M, Bergeron D, Arcand B,...   \n",
       "\n",
       "                            sampleProcessingProtocol  \\\n",
       "0  Purified ectosomes from 20 different donors we...   \n",
       "1  Soluble proteins extracts were prepared from f...   \n",
       "2  One brain hemisphere from each mouse was snap-...   \n",
       "3  hiPSC-CMs were cultured in 60 mm plates, then ...   \n",
       "4  Trypsin digested samples were analyzed by liqu...   \n",
       "\n",
       "                                          species submissionDate  \\\n",
       "0  [Neosartorya fumigata (Aspergillus fumigatus)]     2017-03-01   \n",
       "1                         [Pseudotsuga menziesii]     2018-09-24   \n",
       "2                          [Mus musculus (Mouse)]     2019-05-16   \n",
       "3                          [Homo sapiens (Human)]     2018-12-13   \n",
       "4                 [Schizosaccharomyces pombe 927]     2019-03-21   \n",
       "\n",
       "  submissionType                                          submitter   tissues  \\\n",
       "0        PARTIAL  {'title': 'Dr', 'firstName': 'Thomas', 'lastNa...        []   \n",
       "1        PARTIAL  {'title': 'Dr', 'firstName': 'Claverol', 'last...  [embryo]   \n",
       "2        PARTIAL  {'title': 'Mr', 'firstName': 'Harrison', 'last...   [brain]   \n",
       "3        PARTIAL  {'title': 'Mr', 'firstName': 'Matthew', 'lastN...   [heart]   \n",
       "4        PARTIAL  {'title': 'Mr', 'firstName': 'Danny', 'lastNam...        []   \n",
       "\n",
       "                                               title  \n",
       "0  Aspergillus fumigatus melanin manipulates the ...  \n",
       "1  Cytological, biochemical and molecular events ...  \n",
       "2  Decreased synthesis of ribosomal proteins in t...  \n",
       "3  Total protein profiles of human induced plurip...  \n",
       "4  Proximity-dependent biotinylation by TurboID t...  \n",
       "\n",
       "[5 rows x 28 columns]"
      ]
     },
     "execution_count": 114,
     "metadata": {},
     "output_type": "execute_result"
    }
   ],
   "source": [
    "df.head()"
   ]
  },
  {
   "cell_type": "code",
   "execution_count": 115,
   "metadata": {},
   "outputs": [],
   "source": [
    "df.to_json(\"raw/PRIDE_projects.json\")"
   ]
  },
  {
   "cell_type": "markdown",
   "metadata": {},
   "source": [
    "# Preprocessing"
   ]
  },
  {
   "cell_type": "code",
   "execution_count": 1,
   "metadata": {},
   "outputs": [],
   "source": [
    "import pandas as pd\n",
    "import numpy as np\n",
    "import matplotlib.pyplot as plt\n",
    "import pprint\n",
    "import xgboost as xgb\n",
    "from tqdm import tqdm\n",
    "from sklearn.svm import SVC\n",
    "from sklearn import preprocessing, decomposition, model_selection, metrics, pipeline\n",
    "from sklearn.model_selection import GridSearchCV\n",
    "from sklearn.feature_extraction.text import TfidfVectorizer, CountVectorizer\n",
    "from sklearn.decomposition import TruncatedSVD\n",
    "from sklearn.linear_model import LogisticRegression\n",
    "from sklearn.model_selection import train_test_split\n",
    "from sklearn.naive_bayes import MultinomialNB\n",
    "import nltk\n",
    "from nltk import word_tokenize\n",
    "from nltk.corpus import stopwords\n",
    "stop_words = stopwords.words('english')\n",
    "\n",
    "\n",
    "pd.set_option('display.max_columns', 50)"
   ]
  },
  {
   "cell_type": "code",
   "execution_count": 2,
   "metadata": {},
   "outputs": [],
   "source": [
    "df = pd.read_json(\"raw/PRIDE_projects.json\")"
   ]
  },
  {
   "cell_type": "code",
   "execution_count": 3,
   "metadata": {},
   "outputs": [
    {
     "data": {
      "text/html": [
       "<div>\n",
       "<style scoped>\n",
       "    .dataframe tbody tr th:only-of-type {\n",
       "        vertical-align: middle;\n",
       "    }\n",
       "\n",
       "    .dataframe tbody tr th {\n",
       "        vertical-align: top;\n",
       "    }\n",
       "\n",
       "    .dataframe thead th {\n",
       "        text-align: right;\n",
       "    }\n",
       "</style>\n",
       "<table border=\"1\" class=\"dataframe\">\n",
       "  <thead>\n",
       "    <tr style=\"text-align: right;\">\n",
       "      <th></th>\n",
       "      <th>accession</th>\n",
       "      <th>dataProcessingProtocol</th>\n",
       "      <th>doi</th>\n",
       "      <th>experimentTypes</th>\n",
       "      <th>instrumentNames</th>\n",
       "      <th>keywords</th>\n",
       "      <th>labHeads</th>\n",
       "      <th>numAssays</th>\n",
       "      <th>numIdentifiedSpectra</th>\n",
       "      <th>numPeptides</th>\n",
       "      <th>numProteins</th>\n",
       "      <th>numSpectra</th>\n",
       "      <th>numUniquePeptides</th>\n",
       "      <th>otherOmicsLink</th>\n",
       "      <th>projectDescription</th>\n",
       "      <th>projectTags</th>\n",
       "      <th>ptmNames</th>\n",
       "      <th>publicationDate</th>\n",
       "      <th>quantificationMethods</th>\n",
       "      <th>reanalysis</th>\n",
       "      <th>references</th>\n",
       "      <th>sampleProcessingProtocol</th>\n",
       "      <th>species</th>\n",
       "      <th>submissionDate</th>\n",
       "      <th>submissionType</th>\n",
       "      <th>submitter</th>\n",
       "      <th>tissues</th>\n",
       "      <th>title</th>\n",
       "    </tr>\n",
       "  </thead>\n",
       "  <tbody>\n",
       "    <tr>\n",
       "      <th>0</th>\n",
       "      <td>PXD005994</td>\n",
       "      <td>Protein database search and reporter ion quant...</td>\n",
       "      <td>None</td>\n",
       "      <td>[Shotgun proteomics]</td>\n",
       "      <td>[Q Exactive]</td>\n",
       "      <td>neutrophils, antifungal extracellular vesicles...</td>\n",
       "      <td>[{'title': 'Dr', 'firstName': 'Axel A.', 'last...</td>\n",
       "      <td>0</td>\n",
       "      <td>0</td>\n",
       "      <td>0</td>\n",
       "      <td>0</td>\n",
       "      <td>0</td>\n",
       "      <td>0</td>\n",
       "      <td>None</td>\n",
       "      <td>Neutrophil-derived extracellular vesicles have...</td>\n",
       "      <td>[Biological, Biomedical]</td>\n",
       "      <td>[iodoacetamide derivatized residue, TMT6plex-1...</td>\n",
       "      <td>2019-05-17</td>\n",
       "      <td>[TMT]</td>\n",
       "      <td>None</td>\n",
       "      <td>[]</td>\n",
       "      <td>Purified ectosomes from 20 different donors we...</td>\n",
       "      <td>[Neosartorya fumigata (Aspergillus fumigatus)]</td>\n",
       "      <td>2017-03-01</td>\n",
       "      <td>PARTIAL</td>\n",
       "      <td>{'title': 'Dr', 'firstName': 'Thomas', 'lastNa...</td>\n",
       "      <td>[]</td>\n",
       "      <td>Aspergillus fumigatus melanin manipulates the ...</td>\n",
       "    </tr>\n",
       "    <tr>\n",
       "      <th>1</th>\n",
       "      <td>PXD011176</td>\n",
       "      <td>Protein sample were loaded onto SDS-PAGE gel, ...</td>\n",
       "      <td>None</td>\n",
       "      <td>[Shotgun proteomics]</td>\n",
       "      <td>[Q Exactive]</td>\n",
       "      <td>Pseudostuga, embryonal mass, non-embryogenic c...</td>\n",
       "      <td>[{'title': 'Dr', 'firstName': 'Stephane', 'las...</td>\n",
       "      <td>0</td>\n",
       "      <td>0</td>\n",
       "      <td>0</td>\n",
       "      <td>0</td>\n",
       "      <td>0</td>\n",
       "      <td>0</td>\n",
       "      <td>None</td>\n",
       "      <td>Objectives: to characterize and to better unde...</td>\n",
       "      <td>[]</td>\n",
       "      <td>[iodoacetamide derivatized residue, monohydrox...</td>\n",
       "      <td>2019-05-17</td>\n",
       "      <td>[Label free]</td>\n",
       "      <td>None</td>\n",
       "      <td>[{'desc': 'Gautier F, Label P, Eliášová K, Lep...</td>\n",
       "      <td>Soluble proteins extracts were prepared from f...</td>\n",
       "      <td>[Pseudotsuga menziesii]</td>\n",
       "      <td>2018-09-24</td>\n",
       "      <td>PARTIAL</td>\n",
       "      <td>{'title': 'Dr', 'firstName': 'Claverol', 'last...</td>\n",
       "      <td>[embryo]</td>\n",
       "      <td>Cytological, biochemical and molecular events ...</td>\n",
       "    </tr>\n",
       "    <tr>\n",
       "      <th>10</th>\n",
       "      <td>PXD011695</td>\n",
       "      <td>The resulting tandem mass spectra were searche...</td>\n",
       "      <td>None</td>\n",
       "      <td>[Shotgun proteomics]</td>\n",
       "      <td>[LTQ Orbitrap Elite, Q Exactive]</td>\n",
       "      <td>Shotgun Proteomics, HCD, ETD, EThcD, ETcaD, AI...</td>\n",
       "      <td>[{'title': 'Dr', 'firstName': 'Joshua J.', 'la...</td>\n",
       "      <td>0</td>\n",
       "      <td>0</td>\n",
       "      <td>0</td>\n",
       "      <td>0</td>\n",
       "      <td>0</td>\n",
       "      <td>0</td>\n",
       "      <td>None</td>\n",
       "      <td>Abstract Here we present IPSA, an innovative w...</td>\n",
       "      <td>[]</td>\n",
       "      <td>[iodoacetamide derivatized residue, monohydrox...</td>\n",
       "      <td>2019-05-15</td>\n",
       "      <td>[]</td>\n",
       "      <td>None</td>\n",
       "      <td>[{'desc': 'Brademan DR, Riley NM, Kwiecien NW,...</td>\n",
       "      <td>Cell pellets of Saccharomyces cerevisiae (stra...</td>\n",
       "      <td>[Mus musculus (Mouse), Saccharomyces cerevisia...</td>\n",
       "      <td>2018-11-14</td>\n",
       "      <td>PARTIAL</td>\n",
       "      <td>{'title': 'Mr', 'firstName': 'Dain', 'lastName...</td>\n",
       "      <td>[brain]</td>\n",
       "      <td>Interactive Peptide Spectral Annotator Experim...</td>\n",
       "    </tr>\n",
       "    <tr>\n",
       "      <th>100</th>\n",
       "      <td>PXD013307</td>\n",
       "      <td>Thermo RAW files were processed with MaxQuant ...</td>\n",
       "      <td>None</td>\n",
       "      <td>[Shotgun proteomics]</td>\n",
       "      <td>[LTQ Orbitrap, Orbitrap Fusion Lumos]</td>\n",
       "      <td>Metabolomics, proteomics, biofilm modeling</td>\n",
       "      <td>[{'title': 'Dr', 'firstName': 'Daniel', 'lastN...</td>\n",
       "      <td>0</td>\n",
       "      <td>0</td>\n",
       "      <td>0</td>\n",
       "      <td>0</td>\n",
       "      <td>0</td>\n",
       "      <td>0</td>\n",
       "      <td>None</td>\n",
       "      <td>Biofilms  are  structured communities of  tigh...</td>\n",
       "      <td>[]</td>\n",
       "      <td>[iodoacetamide derivatized residue, monohydrox...</td>\n",
       "      <td>2019-04-30</td>\n",
       "      <td>[Peptide counting]</td>\n",
       "      <td>None</td>\n",
       "      <td>[]</td>\n",
       "      <td>The lysis method used on B. subtilis pellet wa...</td>\n",
       "      <td>[Bacillus subtilis subsp. subtilis str. NCIB 3...</td>\n",
       "      <td>2019-03-29</td>\n",
       "      <td>PARTIAL</td>\n",
       "      <td>{'title': 'Miss', 'firstName': 'Edna Angelica'...</td>\n",
       "      <td>[]</td>\n",
       "      <td>Metabolic remodeling during biofilm developmen...</td>\n",
       "    </tr>\n",
       "    <tr>\n",
       "      <th>1000</th>\n",
       "      <td>PXD009203</td>\n",
       "      <td>The LC-MS/MS analysis was performed on an LTQ ...</td>\n",
       "      <td>10.6019/PXD009203</td>\n",
       "      <td>[Shotgun proteomics]</td>\n",
       "      <td>[LTQ Orbitrap Elite]</td>\n",
       "      <td>Human, bladder, tissue, LC-MS/MS</td>\n",
       "      <td>[{'title': 'Dr', 'firstName': 'Barbara', 'last...</td>\n",
       "      <td>20</td>\n",
       "      <td>0</td>\n",
       "      <td>206952</td>\n",
       "      <td>44807</td>\n",
       "      <td>591744</td>\n",
       "      <td>125446</td>\n",
       "      <td>None</td>\n",
       "      <td>A quantitative label-free proteome analysis of...</td>\n",
       "      <td>[Biomedical]</td>\n",
       "      <td>[Carbamidomethyl, Oxidation]</td>\n",
       "      <td>2018-12-03</td>\n",
       "      <td>[MS1 intensity based label-free quantification...</td>\n",
       "      <td>None</td>\n",
       "      <td>[]</td>\n",
       "      <td>Vials containing lasermicrodissected tissue we...</td>\n",
       "      <td>[Homo sapiens (Human)]</td>\n",
       "      <td>2018-03-14</td>\n",
       "      <td>COMPLETE</td>\n",
       "      <td>{'title': 'Dr', 'firstName': 'Thilo', 'lastNam...</td>\n",
       "      <td>[urinary bladder]</td>\n",
       "      <td>Integrated FTIR imaging and proteomics for ide...</td>\n",
       "    </tr>\n",
       "  </tbody>\n",
       "</table>\n",
       "</div>"
      ],
      "text/plain": [
       "      accession                             dataProcessingProtocol  \\\n",
       "0     PXD005994  Protein database search and reporter ion quant...   \n",
       "1     PXD011176  Protein sample were loaded onto SDS-PAGE gel, ...   \n",
       "10    PXD011695  The resulting tandem mass spectra were searche...   \n",
       "100   PXD013307  Thermo RAW files were processed with MaxQuant ...   \n",
       "1000  PXD009203  The LC-MS/MS analysis was performed on an LTQ ...   \n",
       "\n",
       "                    doi       experimentTypes  \\\n",
       "0                  None  [Shotgun proteomics]   \n",
       "1                  None  [Shotgun proteomics]   \n",
       "10                 None  [Shotgun proteomics]   \n",
       "100                None  [Shotgun proteomics]   \n",
       "1000  10.6019/PXD009203  [Shotgun proteomics]   \n",
       "\n",
       "                            instrumentNames  \\\n",
       "0                              [Q Exactive]   \n",
       "1                              [Q Exactive]   \n",
       "10         [LTQ Orbitrap Elite, Q Exactive]   \n",
       "100   [LTQ Orbitrap, Orbitrap Fusion Lumos]   \n",
       "1000                   [LTQ Orbitrap Elite]   \n",
       "\n",
       "                                               keywords  \\\n",
       "0     neutrophils, antifungal extracellular vesicles...   \n",
       "1     Pseudostuga, embryonal mass, non-embryogenic c...   \n",
       "10    Shotgun Proteomics, HCD, ETD, EThcD, ETcaD, AI...   \n",
       "100          Metabolomics, proteomics, biofilm modeling   \n",
       "1000                   Human, bladder, tissue, LC-MS/MS   \n",
       "\n",
       "                                               labHeads  numAssays  \\\n",
       "0     [{'title': 'Dr', 'firstName': 'Axel A.', 'last...          0   \n",
       "1     [{'title': 'Dr', 'firstName': 'Stephane', 'las...          0   \n",
       "10    [{'title': 'Dr', 'firstName': 'Joshua J.', 'la...          0   \n",
       "100   [{'title': 'Dr', 'firstName': 'Daniel', 'lastN...          0   \n",
       "1000  [{'title': 'Dr', 'firstName': 'Barbara', 'last...         20   \n",
       "\n",
       "      numIdentifiedSpectra  numPeptides  numProteins  numSpectra  \\\n",
       "0                        0            0            0           0   \n",
       "1                        0            0            0           0   \n",
       "10                       0            0            0           0   \n",
       "100                      0            0            0           0   \n",
       "1000                     0       206952        44807      591744   \n",
       "\n",
       "      numUniquePeptides otherOmicsLink  \\\n",
       "0                     0           None   \n",
       "1                     0           None   \n",
       "10                    0           None   \n",
       "100                   0           None   \n",
       "1000             125446           None   \n",
       "\n",
       "                                     projectDescription  \\\n",
       "0     Neutrophil-derived extracellular vesicles have...   \n",
       "1     Objectives: to characterize and to better unde...   \n",
       "10    Abstract Here we present IPSA, an innovative w...   \n",
       "100   Biofilms  are  structured communities of  tigh...   \n",
       "1000  A quantitative label-free proteome analysis of...   \n",
       "\n",
       "                   projectTags  \\\n",
       "0     [Biological, Biomedical]   \n",
       "1                           []   \n",
       "10                          []   \n",
       "100                         []   \n",
       "1000              [Biomedical]   \n",
       "\n",
       "                                               ptmNames publicationDate  \\\n",
       "0     [iodoacetamide derivatized residue, TMT6plex-1...      2019-05-17   \n",
       "1     [iodoacetamide derivatized residue, monohydrox...      2019-05-17   \n",
       "10    [iodoacetamide derivatized residue, monohydrox...      2019-05-15   \n",
       "100   [iodoacetamide derivatized residue, monohydrox...      2019-04-30   \n",
       "1000                       [Carbamidomethyl, Oxidation]      2018-12-03   \n",
       "\n",
       "                                  quantificationMethods reanalysis  \\\n",
       "0                                                 [TMT]       None   \n",
       "1                                          [Label free]       None   \n",
       "10                                                   []       None   \n",
       "100                                  [Peptide counting]       None   \n",
       "1000  [MS1 intensity based label-free quantification...       None   \n",
       "\n",
       "                                             references  \\\n",
       "0                                                    []   \n",
       "1     [{'desc': 'Gautier F, Label P, Eliášová K, Lep...   \n",
       "10    [{'desc': 'Brademan DR, Riley NM, Kwiecien NW,...   \n",
       "100                                                  []   \n",
       "1000                                                 []   \n",
       "\n",
       "                               sampleProcessingProtocol  \\\n",
       "0     Purified ectosomes from 20 different donors we...   \n",
       "1     Soluble proteins extracts were prepared from f...   \n",
       "10    Cell pellets of Saccharomyces cerevisiae (stra...   \n",
       "100   The lysis method used on B. subtilis pellet wa...   \n",
       "1000  Vials containing lasermicrodissected tissue we...   \n",
       "\n",
       "                                                species submissionDate  \\\n",
       "0        [Neosartorya fumigata (Aspergillus fumigatus)]     2017-03-01   \n",
       "1                               [Pseudotsuga menziesii]     2018-09-24   \n",
       "10    [Mus musculus (Mouse), Saccharomyces cerevisia...     2018-11-14   \n",
       "100   [Bacillus subtilis subsp. subtilis str. NCIB 3...     2019-03-29   \n",
       "1000                             [Homo sapiens (Human)]     2018-03-14   \n",
       "\n",
       "     submissionType                                          submitter  \\\n",
       "0           PARTIAL  {'title': 'Dr', 'firstName': 'Thomas', 'lastNa...   \n",
       "1           PARTIAL  {'title': 'Dr', 'firstName': 'Claverol', 'last...   \n",
       "10          PARTIAL  {'title': 'Mr', 'firstName': 'Dain', 'lastName...   \n",
       "100         PARTIAL  {'title': 'Miss', 'firstName': 'Edna Angelica'...   \n",
       "1000       COMPLETE  {'title': 'Dr', 'firstName': 'Thilo', 'lastNam...   \n",
       "\n",
       "                tissues                                              title  \n",
       "0                    []  Aspergillus fumigatus melanin manipulates the ...  \n",
       "1              [embryo]  Cytological, biochemical and molecular events ...  \n",
       "10              [brain]  Interactive Peptide Spectral Annotator Experim...  \n",
       "100                  []  Metabolic remodeling during biofilm developmen...  \n",
       "1000  [urinary bladder]  Integrated FTIR imaging and proteomics for ide...  "
      ]
     },
     "execution_count": 3,
     "metadata": {},
     "output_type": "execute_result"
    }
   ],
   "source": [
    "df.head()"
   ]
  },
  {
   "cell_type": "markdown",
   "metadata": {},
   "source": [
    "## references"
   ]
  },
  {
   "cell_type": "code",
   "execution_count": 4,
   "metadata": {},
   "outputs": [
    {
     "data": {
      "text/plain": [
       "[0, 1, 2, 3, 4, 5, 9, 16]"
      ]
     },
     "execution_count": 4,
     "metadata": {},
     "output_type": "execute_result"
    }
   ],
   "source": [
    "sorted(df.references.apply(lambda x: len(x)).unique())"
   ]
  },
  {
   "cell_type": "code",
   "execution_count": 5,
   "metadata": {},
   "outputs": [
    {
     "data": {
      "text/plain": [
       "(6637, 28)"
      ]
     },
     "execution_count": 5,
     "metadata": {},
     "output_type": "execute_result"
    }
   ],
   "source": [
    "df[df.references.apply(lambda x: len(x) > 0)].shape"
   ]
  },
  {
   "cell_type": "markdown",
   "metadata": {},
   "source": [
    "Most of the entries (6637) have a reference attached on which we could do more extensive NLP"
   ]
  },
  {
   "cell_type": "markdown",
   "metadata": {},
   "source": [
    "## submissionType"
   ]
  },
  {
   "cell_type": "code",
   "execution_count": 6,
   "metadata": {},
   "outputs": [
    {
     "data": {
      "text/plain": [
       "array(['PARTIAL', 'COMPLETE', 'PRIDE'], dtype=object)"
      ]
     },
     "execution_count": 6,
     "metadata": {},
     "output_type": "execute_result"
    }
   ],
   "source": [
    "df.submissionType.unique()"
   ]
  },
  {
   "cell_type": "code",
   "execution_count": 7,
   "metadata": {},
   "outputs": [
    {
     "data": {
      "text/plain": [
       "(1751, 28)"
      ]
     },
     "execution_count": 7,
     "metadata": {},
     "output_type": "execute_result"
    }
   ],
   "source": [
    "df[df.references.apply(lambda x: len(x) > 0) & ((df.submissionType == 'COMPLETE') | (df.submissionType == 'PRIDE'))].shape"
   ]
  },
  {
   "cell_type": "markdown",
   "metadata": {},
   "source": [
    "Many datasets are not 'COMPLETE', though I'm not sure how that's defined. As long as the submissions have descriptions or references and nice categorical labels, we can perform the classification we set out to do."
   ]
  },
  {
   "cell_type": "code",
   "execution_count": 8,
   "metadata": {},
   "outputs": [
    {
     "data": {
      "text/plain": [
       "(7586,)"
      ]
     },
     "execution_count": 8,
     "metadata": {},
     "output_type": "execute_result"
    }
   ],
   "source": [
    "df.references.apply(lambda x: len(x) > 0).shape"
   ]
  },
  {
   "cell_type": "markdown",
   "metadata": {},
   "source": [
    "## experimentTypes"
   ]
  },
  {
   "cell_type": "code",
   "execution_count": 61,
   "metadata": {},
   "outputs": [
    {
     "name": "stdout",
     "output_type": "stream",
     "text": [
      "Num projects unlabeled: 0\n",
      "Num unique: 16\n",
      "array(['Shotgun proteomics',\n",
      "       'Affinity purification coupled with mass spectrometry proteomics',\n",
      "       'Top-down proteomics', 'Gel-based experiment', 'HDMSE', 'SWATH MS',\n",
      "       'SRM/MRM', 'Bottom-up proteomics',\n",
      "       'Chemical cross-linking coupled with mass spectrometry proteomics',\n",
      "       'Mass spectrometry imaging', 'All-ion fragmentation', 'MSE',\n",
      "       'PAcIFIC', 'Gel-free quantification method',\n",
      "       'Two Dimensional Polyacrylamide Gel Electrophoresis',\n",
      "       'iTRAQ reagent'], dtype=object)\n"
     ]
    },
    {
     "data": {
      "image/png": "[encoded data removed]",
      "text/plain": [
       "<Figure size 432x288 with 1 Axes>"
      ]
     },
     "metadata": {
      "needs_background": "light"
     },
     "output_type": "display_data"
    }
   ],
   "source": [
    "print(\"Num projects unlabeled: \" + str(df[~df.experimentTypes.apply(lambda x: len(x) > 0)].shape[0]))\n",
    "print(\"Num unique: \" + str(len(pd.unique([item for sublist in df.experimentTypes for item in sublist]))))\n",
    "pprint.pprint(pd.unique([item for sublist in df.experimentTypes for item in sublist]))\n",
    "freq = nltk.FreqDist([item for sublist in df.experimentTypes for item in sublist])\n",
    "\n",
    "freq.plot(20, cumulative=False)"
   ]
  },
  {
   "cell_type": "markdown",
   "metadata": {},
   "source": [
    "## instrumentNames"
   ]
  },
  {
   "cell_type": "code",
   "execution_count": 62,
   "metadata": {},
   "outputs": [
    {
     "name": "stdout",
     "output_type": "stream",
     "text": [
      "Num projects unlabeled: 0\n",
      "Num unique: 129\n",
      "array(['Q Exactive', 'LTQ Orbitrap Elite', 'LTQ Orbitrap',\n",
      "       'Orbitrap Fusion Lumos', 'LTQ Orbitrap Velos', 'Q Exactive HF',\n",
      "       'Orbitrap Fusion', 'LTQ', 'TripleTOF 5600', 'LTQ Orbitrap XL',\n",
      "       'Synapt G2 MS', 'Synapt MS', 'Q-Tof Premier', 'ultraflex TOF/TOF',\n",
      "       '6520 Quadrupole Time-of-Flight LC/MS', 'ultraflex', 'LTQ FT',\n",
      "       'TripleTOF 5600+', 'liquid chromatography separation',\n",
      "       'Orbitrap Fusion ETD', '6410 Triple Quadrupole LC/MS',\n",
      "       'Q Exactive Plus', 'maXis', 'TSQ Vantage', 'QSTAR',\n",
      "       'Q Exactive HF-X', 'Bruker Daltonics instrument model',\n",
      "       'Q-Tof ultima', 'Bruker Daltonics micrOTOF series',\n",
      "       'Thermo Scientific', 'autoflex', 'Agilent instrument model',\n",
      "       '6220 Time-of-Flight LC/MS', 'AB SCIEX instrument model',\n",
      "       '4800 Proteomics Analyzer', 'Bruker Daltonics maXis series',\n",
      "       'apex ultra', 'Synapt G2-S HDMS', 'Synapt HDMS', 'maXis 4G',\n",
      "       'LTQ Velos', 'LTQ Orbitap Discovery',\n",
      "       'Thermo Scientific instrument model', '4700 Proteomics Analyzer',\n",
      "       'Q TRAP', 'Bruker Daltonics solarix series', 'TripleTOF 6600',\n",
      "       'ACQUITY UPLC', 'Bruker Daltonics HCT Series',\n",
      "       'Bruker Daltonics amaZon series', 'impact II', 'LTQ XL',\n",
      "       '6530B Q-TOF LC/MS', 'nanoACQUITY UPLC', 'TOF/TOF 5800',\n",
      "       '6330 Ion Trap LC/MS', 'Xevo Q-Tof', 'LTQ Orbitrap Classic',\n",
      "       'Waters instrument model', '6340 Ion Trap LC/MS', 'SYNAPT G2-Si',\n",
      "       'Fourier Transform Ion Cyclotron Resonance Mass Spectrometer',\n",
      "       'LCQ Classic', 'LTQ FT Ultra', 'impact HD', 'TripleTOF 4600',\n",
      "       'micrOTOF-Q II', 'HCTultra', 'micrOTOF II', 'solariX',\n",
      "       'Synapt G2 HDMS', 'Xevo G2 Q-Tof', 'HCTultra ETD II',\n",
      "       'amaZon Speed ETD', 'instrument model', 'micrOTOF-Q III',\n",
      "       'Xevo G2-S QTof', 'LTQ Orbitrap XL ETD', 'MALDI Synapt G2-S MS',\n",
      "       'X500R QTOF', 'TSQ Quantum Ultra', 'ultrafleXtreme',\n",
      "       'AXIMA Performance MALDI-TOF/TOF',\n",
      "       'AB SCIEX TOF/TOF Series Explorer Software', 'MALDI Synapt MS',\n",
      "       'LTQ XL ETD', 'TSQ Quantiva', 'Exactive Plus',\n",
      "       'Finnigan MAT instrument model', 'Velos Plus', '6545 Q-TOF LC/MS',\n",
      "       'Voyager-DE PRO', 'orbitrap', 'Bruker software',\n",
      "       '4800 Plus MALDI TOF/TOF', 'QTRAP 5500',\n",
      "       'Bruker Daltonics esquire series',\n",
      "       'Thermo Electron instrument model', 'ion trap',\n",
      "       'ultraflex III TOF/TOF', 'amaZon ETD', 'LCQ Deca XP Plus',\n",
      "       'Progenesis LC-MS', 'Dionex instrument model', 'Mascot', 'impact',\n",
      "       'Thermo Finnigan instrument model', 'Bruker Daltonics apex series',\n",
      "       'AB SCIEX TOF/TOF T2D file', 'Exactive', 'QSTAR XL', 'QSTAR Pulsar',\n",
      "       'electrospray ionization', 'Orbitrap Elite', 'mass spectrometry',\n",
      "       'TSQ Quantum', '6550 iFunnel Q-TOF LC/MS',\n",
      "       'Bruker Daltonics flex series', 'MALDI Synapt HDMS',\n",
      "       'Applied Biosystems instrument model', 'MALDI Synapt G2 HDMS',\n",
      "       'Voyager-DE STR', '4000 Q TRAP', 'Q-Tof micro',\n",
      "       'microchannel plate detector', 'LCQ Deca', 'AXIMA CFR MALDI-TOF',\n",
      "       'Hitachi instrument model', 'Nanoelectrospray'], dtype=object)\n"
     ]
    },
    {
     "data": {
      "image/png": "[encoded data removed]",
      "text/plain": [
       "<Figure size 432x288 with 1 Axes>"
      ]
     },
     "metadata": {
      "needs_background": "light"
     },
     "output_type": "display_data"
    }
   ],
   "source": [
    "print(\"Num projects unlabeled: \" + str(df[~df.instrumentNames.apply(lambda x: len(x) > 0)].shape[0]))\n",
    "print(\"Num unique: \" + str(len(pd.unique([item for sublist in df.instrumentNames for item in sublist]))))\n",
    "pprint.pprint(pd.unique([item for sublist in df.instrumentNames for item in sublist]))\n",
    "freq = nltk.FreqDist([item for sublist in df.instrumentNames for item in sublist])\n",
    "\n",
    "freq.plot(20, cumulative=False)"
   ]
  },
  {
   "cell_type": "markdown",
   "metadata": {},
   "source": [
    "## keywords"
   ]
  },
  {
   "cell_type": "code",
   "execution_count": 79,
   "metadata": {},
   "outputs": [
    {
     "name": "stdout",
     "output_type": "stream",
     "text": [
      "Num projects unlabeled: 0\n",
      "Num unique: 14214\n",
      "array(['neutrophils', 'antifungal extracellular vesicles',\n",
      "       'Aspergillus fumigatus', ...,\n",
      "       'human umbilical vein endothelial cells (HUVECs)',\n",
      "       'primary human osteoblasts (hOBs)',\n",
      "       'stable isotope labeling by amino acids in cell culture (SILAC)'], dtype=object)\n"
     ]
    },
    {
     "data": {
      "image/png": "[encoded data removed]",
      "text/plain": [
       "<Figure size 432x288 with 1 Axes>"
      ]
     },
     "metadata": {
      "needs_background": "light"
     },
     "output_type": "display_data"
    }
   ],
   "source": [
    "#df_keywords = df.keywords.apply(lambda x: list(map(lambda x: x.strip(), x.split(','))))\n",
    "df_keywords = df.keywords.apply(lambda x: list(map(lambda x: x.strip(), x.replace(';', ',').replace(' / ', ',').split(','))))\n",
    "print(\"Num projects unlabeled: \" + str(df[df_keywords.apply(lambda x: set(x) == set(['']))].shape[0]))\n",
    "print(\"Num unique: \" + str(len(pd.unique([item for sublist in df_keywords for item in sublist]))))\n",
    "pprint.pprint(pd.unique([item for sublist in df_keywords for item in sublist]))\n",
    "freq = nltk.FreqDist([item for sublist in df_keywords for item in sublist])\n",
    "\n",
    "freq.plot(30, cumulative=False)"
   ]
  },
  {
   "cell_type": "markdown",
   "metadata": {},
   "source": [
    "## numAssays"
   ]
  },
  {
   "cell_type": "code",
   "execution_count": 12,
   "metadata": {},
   "outputs": [
    {
     "data": {
      "text/plain": [
       "(2052, 28)"
      ]
     },
     "execution_count": 12,
     "metadata": {},
     "output_type": "execute_result"
    }
   ],
   "source": [
    "df[df.numAssays != 0].shape"
   ]
  },
  {
   "cell_type": "code",
   "execution_count": 13,
   "metadata": {},
   "outputs": [
    {
     "data": {
      "text/plain": [
       "[]"
      ]
     },
     "execution_count": 13,
     "metadata": {},
     "output_type": "execute_result"
    },
    {
     "data": {
      "image/png": "[encoded data removed]",
      "text/plain": [
       "<Figure size 576x360 with 1 Axes>"
      ]
     },
     "metadata": {
      "needs_background": "light"
     },
     "output_type": "display_data"
    }
   ],
   "source": [
    "fig, ax = plt.subplots(figsize=(8, 5))\n",
    "plt.hist(df[df.numAssays != 0].numAssays, bins='auto', log=True)\n",
    "plt.plot()"
   ]
  },
  {
   "cell_type": "markdown",
   "metadata": {},
   "source": [
    "## numSpectra"
   ]
  },
  {
   "cell_type": "code",
   "execution_count": 14,
   "metadata": {},
   "outputs": [
    {
     "data": {
      "text/plain": [
       "(1977, 28)"
      ]
     },
     "execution_count": 14,
     "metadata": {},
     "output_type": "execute_result"
    }
   ],
   "source": [
    "df[df.numSpectra != 0].shape"
   ]
  },
  {
   "cell_type": "code",
   "execution_count": 15,
   "metadata": {},
   "outputs": [
    {
     "data": {
      "text/plain": [
       "[]"
      ]
     },
     "execution_count": 15,
     "metadata": {},
     "output_type": "execute_result"
    },
    {
     "data": {
      "image/png": "[encoded data removed]",
      "text/plain": [
       "<Figure size 576x360 with 1 Axes>"
      ]
     },
     "metadata": {
      "needs_background": "light"
     },
     "output_type": "display_data"
    }
   ],
   "source": [
    "fig, ax = plt.subplots(figsize=(8, 5))\n",
    "plt.hist(df[df.numSpectra != 0].numAssays, bins='auto', log=True)\n",
    "plt.plot()"
   ]
  },
  {
   "cell_type": "markdown",
   "metadata": {},
   "source": [
    "## numPeptides"
   ]
  },
  {
   "cell_type": "code",
   "execution_count": 16,
   "metadata": {},
   "outputs": [
    {
     "data": {
      "text/plain": [
       "(1933, 28)"
      ]
     },
     "execution_count": 16,
     "metadata": {},
     "output_type": "execute_result"
    }
   ],
   "source": [
    "df[df.numPeptides != 0].shape"
   ]
  },
  {
   "cell_type": "code",
   "execution_count": 17,
   "metadata": {},
   "outputs": [
    {
     "data": {
      "text/plain": [
       "[]"
      ]
     },
     "execution_count": 17,
     "metadata": {},
     "output_type": "execute_result"
    },
    {
     "data": {
      "image/png": "[encoded data removed]",
      "text/plain": [
       "<Figure size 576x360 with 1 Axes>"
      ]
     },
     "metadata": {
      "needs_background": "light"
     },
     "output_type": "display_data"
    }
   ],
   "source": [
    "fig, ax = plt.subplots(figsize=(8, 5))\n",
    "plt.hist(df[df.numPeptides != 0].numAssays, bins='auto', log=True)\n",
    "plt.plot()"
   ]
  },
  {
   "cell_type": "code",
   "execution_count": 329,
   "metadata": {},
   "outputs": [
    {
     "data": {
      "text/html": [
       "<div>\n",
       "<style scoped>\n",
       "    .dataframe tbody tr th:only-of-type {\n",
       "        vertical-align: middle;\n",
       "    }\n",
       "\n",
       "    .dataframe tbody tr th {\n",
       "        vertical-align: top;\n",
       "    }\n",
       "\n",
       "    .dataframe thead th {\n",
       "        text-align: right;\n",
       "    }\n",
       "</style>\n",
       "<table border=\"1\" class=\"dataframe\">\n",
       "  <thead>\n",
       "    <tr style=\"text-align: right;\">\n",
       "      <th></th>\n",
       "      <th>accession</th>\n",
       "      <th>dataProcessingProtocol</th>\n",
       "      <th>doi</th>\n",
       "      <th>experimentTypes</th>\n",
       "      <th>instrumentNames</th>\n",
       "      <th>keywords</th>\n",
       "      <th>labHeads</th>\n",
       "      <th>numAssays</th>\n",
       "      <th>numIdentifiedSpectra</th>\n",
       "      <th>numPeptides</th>\n",
       "      <th>...</th>\n",
       "      <th>references</th>\n",
       "      <th>sampleProcessingProtocol</th>\n",
       "      <th>species</th>\n",
       "      <th>submissionDate</th>\n",
       "      <th>submissionType</th>\n",
       "      <th>submitter</th>\n",
       "      <th>tissues</th>\n",
       "      <th>title</th>\n",
       "      <th>multiSpecies</th>\n",
       "      <th>text</th>\n",
       "    </tr>\n",
       "  </thead>\n",
       "  <tbody>\n",
       "    <tr>\n",
       "      <th>1021</th>\n",
       "      <td>PXD007599</td>\n",
       "      <td>All spectra (.raw files) generated from MS wer...</td>\n",
       "      <td>None</td>\n",
       "      <td>[Shotgun proteomics]</td>\n",
       "      <td>[LTQ Orbitrap]</td>\n",
       "      <td>carnivorous, enzymes, LC-MS, Nepenthes, orbitr...</td>\n",
       "      <td>[{'title': 'Dr', 'firstName': 'HOE-HAN', 'last...</td>\n",
       "      <td>0</td>\n",
       "      <td>0</td>\n",
       "      <td>0</td>\n",
       "      <td>...</td>\n",
       "      <td>[]</td>\n",
       "      <td>Collected pitcher fluids were filtered through...</td>\n",
       "      <td>[Nepenthes ampullaria, Nepenthes rafflesiana, ...</td>\n",
       "      <td>2018-11-28</td>\n",
       "      <td>PARTIAL</td>\n",
       "      <td>{'title': 'Dr', 'firstName': 'Hoe-Han', 'lastN...</td>\n",
       "      <td>[pitcher secretion]</td>\n",
       "      <td>Pitcher fluid protein profiling from Nepenthes...</td>\n",
       "      <td>True</td>\n",
       "      <td>Pitcher fluids from 3 species of Nepenthes, na...</td>\n",
       "    </tr>\n",
       "    <tr>\n",
       "      <th>1031</th>\n",
       "      <td>PXD011187</td>\n",
       "      <td>All raw data files from Xcalibur software were...</td>\n",
       "      <td>None</td>\n",
       "      <td>[Shotgun proteomics]</td>\n",
       "      <td>[LTQ Orbitrap Elite, Q Exactive]</td>\n",
       "      <td>Phosphoproteome,ALK inhibition,neuroblastoma,o...</td>\n",
       "      <td>[{'title': 'Dr', 'firstName': 'Bengt', 'lastNa...</td>\n",
       "      <td>0</td>\n",
       "      <td>0</td>\n",
       "      <td>0</td>\n",
       "      <td>...</td>\n",
       "      <td>[{'desc': 'Van den Eynden J, Umapathy G, Ashou...</td>\n",
       "      <td>Tyrosine/serine/threonine profiling was perfor...</td>\n",
       "      <td>[Homo sapiens (Human)]</td>\n",
       "      <td>2018-09-25</td>\n",
       "      <td>PARTIAL</td>\n",
       "      <td>{'title': 'Dr', 'firstName': 'Vicky', 'lastNam...</td>\n",
       "      <td>[brain, bone marrow]</td>\n",
       "      <td>Phosphoproteome and gene expression profiling ...</td>\n",
       "      <td>False</td>\n",
       "      <td>Neuroblastoma is a neural crest-derived embryo...</td>\n",
       "    </tr>\n",
       "    <tr>\n",
       "      <th>1059</th>\n",
       "      <td>PXD009332</td>\n",
       "      <td>Spectra data were acquired in MS and MS/MS mod...</td>\n",
       "      <td>10.6019/PXD009332</td>\n",
       "      <td>[Gel-based experiment]</td>\n",
       "      <td>[ultraflex TOF/TOF]</td>\n",
       "      <td>Histomonas meleagridis, protozoa, comparative ...</td>\n",
       "      <td>[{'title': 'Dr', 'firstName': 'Dr. Ivana', 'la...</td>\n",
       "      <td>42</td>\n",
       "      <td>0</td>\n",
       "      <td>198</td>\n",
       "      <td>...</td>\n",
       "      <td>[{'desc': 'Monoyios A, Hummel K, Nöbauer K, Pa...</td>\n",
       "      <td>Significantly differentially abundant protein ...</td>\n",
       "      <td>[Histomonas meleagridis]</td>\n",
       "      <td>2018-03-26</td>\n",
       "      <td>COMPLETE</td>\n",
       "      <td>{'title': 'Dr', 'firstName': 'Ivana', 'lastNam...</td>\n",
       "      <td>[cell culture]</td>\n",
       "      <td>An alliance of gel-based and gel-free proteomi...</td>\n",
       "      <td>False</td>\n",
       "      <td>The current work aimed to detect and identify ...</td>\n",
       "    </tr>\n",
       "    <tr>\n",
       "      <th>108</th>\n",
       "      <td>PXD012225</td>\n",
       "      <td>Peptide spectral matching was performed with M...</td>\n",
       "      <td>10.6019/PXD012225</td>\n",
       "      <td>[Chemical cross-linking coupled with mass spec...</td>\n",
       "      <td>[Orbitrap Fusion Lumos, Q Exactive]</td>\n",
       "      <td>Fibrin, Clot, ECM, insoluble protein, matrix, ...</td>\n",
       "      <td>[{'title': 'Dr', 'firstName': 'Kirk C', 'lastN...</td>\n",
       "      <td>3</td>\n",
       "      <td>0</td>\n",
       "      <td>732569</td>\n",
       "      <td>...</td>\n",
       "      <td>[]</td>\n",
       "      <td>For development, human blood from a healthy do...</td>\n",
       "      <td>[Homo sapiens (Human)]</td>\n",
       "      <td>2019-01-03</td>\n",
       "      <td>COMPLETE</td>\n",
       "      <td>{'title': 'Dr', 'firstName': 'Kirk ', 'lastNam...</td>\n",
       "      <td>[blood plasma, blood]</td>\n",
       "      <td>Molecular Mapping of FXIIIa Crosslinks</td>\n",
       "      <td>False</td>\n",
       "      <td>Here we present characterization of fibrin clo...</td>\n",
       "    </tr>\n",
       "    <tr>\n",
       "      <th>1095</th>\n",
       "      <td>PXD007154</td>\n",
       "      <td>Raw data of all experiments except histone PTM...</td>\n",
       "      <td>None</td>\n",
       "      <td>[Affinity purification coupled with mass spect...</td>\n",
       "      <td>[Synapt MS, Orbitrap Fusion, Q Exactive]</td>\n",
       "      <td>Chromatin profiling, mouse embryonic stem cell...</td>\n",
       "      <td>[{'title': 'Dr', 'firstName': 'Hendrik', 'last...</td>\n",
       "      <td>0</td>\n",
       "      <td>0</td>\n",
       "      <td>0</td>\n",
       "      <td>...</td>\n",
       "      <td>[]</td>\n",
       "      <td>For whole cell proteomes, cells were lysed in ...</td>\n",
       "      <td>[Mus musculus (Mouse)]</td>\n",
       "      <td>2017-08-09</td>\n",
       "      <td>PARTIAL</td>\n",
       "      <td>{'title': 'Mr', 'firstName': 'Guido', 'lastNam...</td>\n",
       "      <td>[]</td>\n",
       "      <td>Integrative proteomics reveals a protective ro...</td>\n",
       "      <td>False</td>\n",
       "      <td>The ground state of pluripotency is defined as...</td>\n",
       "    </tr>\n",
       "  </tbody>\n",
       "</table>\n",
       "<p>5 rows × 30 columns</p>\n",
       "</div>"
      ],
      "text/plain": [
       "      accession                             dataProcessingProtocol  \\\n",
       "1021  PXD007599  All spectra (.raw files) generated from MS wer...   \n",
       "1031  PXD011187  All raw data files from Xcalibur software were...   \n",
       "1059  PXD009332  Spectra data were acquired in MS and MS/MS mod...   \n",
       "108   PXD012225  Peptide spectral matching was performed with M...   \n",
       "1095  PXD007154  Raw data of all experiments except histone PTM...   \n",
       "\n",
       "                    doi                                    experimentTypes  \\\n",
       "1021               None                               [Shotgun proteomics]   \n",
       "1031               None                               [Shotgun proteomics]   \n",
       "1059  10.6019/PXD009332                             [Gel-based experiment]   \n",
       "108   10.6019/PXD012225  [Chemical cross-linking coupled with mass spec...   \n",
       "1095               None  [Affinity purification coupled with mass spect...   \n",
       "\n",
       "                               instrumentNames  \\\n",
       "1021                            [LTQ Orbitrap]   \n",
       "1031          [LTQ Orbitrap Elite, Q Exactive]   \n",
       "1059                       [ultraflex TOF/TOF]   \n",
       "108        [Orbitrap Fusion Lumos, Q Exactive]   \n",
       "1095  [Synapt MS, Orbitrap Fusion, Q Exactive]   \n",
       "\n",
       "                                               keywords  \\\n",
       "1021  carnivorous, enzymes, LC-MS, Nepenthes, orbitr...   \n",
       "1031  Phosphoproteome,ALK inhibition,neuroblastoma,o...   \n",
       "1059  Histomonas meleagridis, protozoa, comparative ...   \n",
       "108   Fibrin, Clot, ECM, insoluble protein, matrix, ...   \n",
       "1095  Chromatin profiling, mouse embryonic stem cell...   \n",
       "\n",
       "                                               labHeads  numAssays  \\\n",
       "1021  [{'title': 'Dr', 'firstName': 'HOE-HAN', 'last...          0   \n",
       "1031  [{'title': 'Dr', 'firstName': 'Bengt', 'lastNa...          0   \n",
       "1059  [{'title': 'Dr', 'firstName': 'Dr. Ivana', 'la...         42   \n",
       "108   [{'title': 'Dr', 'firstName': 'Kirk C', 'lastN...          3   \n",
       "1095  [{'title': 'Dr', 'firstName': 'Hendrik', 'last...          0   \n",
       "\n",
       "      numIdentifiedSpectra  numPeptides  \\\n",
       "1021                     0            0   \n",
       "1031                     0            0   \n",
       "1059                     0          198   \n",
       "108                      0       732569   \n",
       "1095                     0            0   \n",
       "\n",
       "                            ...                          \\\n",
       "1021                        ...                           \n",
       "1031                        ...                           \n",
       "1059                        ...                           \n",
       "108                         ...                           \n",
       "1095                        ...                           \n",
       "\n",
       "                                             references  \\\n",
       "1021                                                 []   \n",
       "1031  [{'desc': 'Van den Eynden J, Umapathy G, Ashou...   \n",
       "1059  [{'desc': 'Monoyios A, Hummel K, Nöbauer K, Pa...   \n",
       "108                                                  []   \n",
       "1095                                                 []   \n",
       "\n",
       "                               sampleProcessingProtocol  \\\n",
       "1021  Collected pitcher fluids were filtered through...   \n",
       "1031  Tyrosine/serine/threonine profiling was perfor...   \n",
       "1059  Significantly differentially abundant protein ...   \n",
       "108   For development, human blood from a healthy do...   \n",
       "1095  For whole cell proteomes, cells were lysed in ...   \n",
       "\n",
       "                                                species submissionDate  \\\n",
       "1021  [Nepenthes ampullaria, Nepenthes rafflesiana, ...     2018-11-28   \n",
       "1031                             [Homo sapiens (Human)]     2018-09-25   \n",
       "1059                           [Histomonas meleagridis]     2018-03-26   \n",
       "108                              [Homo sapiens (Human)]     2019-01-03   \n",
       "1095                             [Mus musculus (Mouse)]     2017-08-09   \n",
       "\n",
       "     submissionType                                          submitter  \\\n",
       "1021        PARTIAL  {'title': 'Dr', 'firstName': 'Hoe-Han', 'lastN...   \n",
       "1031        PARTIAL  {'title': 'Dr', 'firstName': 'Vicky', 'lastNam...   \n",
       "1059       COMPLETE  {'title': 'Dr', 'firstName': 'Ivana', 'lastNam...   \n",
       "108        COMPLETE  {'title': 'Dr', 'firstName': 'Kirk ', 'lastNam...   \n",
       "1095        PARTIAL  {'title': 'Mr', 'firstName': 'Guido', 'lastNam...   \n",
       "\n",
       "                    tissues  \\\n",
       "1021    [pitcher secretion]   \n",
       "1031   [brain, bone marrow]   \n",
       "1059         [cell culture]   \n",
       "108   [blood plasma, blood]   \n",
       "1095                     []   \n",
       "\n",
       "                                                  title multiSpecies  \\\n",
       "1021  Pitcher fluid protein profiling from Nepenthes...         True   \n",
       "1031  Phosphoproteome and gene expression profiling ...        False   \n",
       "1059  An alliance of gel-based and gel-free proteomi...        False   \n",
       "108              Molecular Mapping of FXIIIa Crosslinks        False   \n",
       "1095  Integrative proteomics reveals a protective ro...        False   \n",
       "\n",
       "                                                   text  \n",
       "1021  Pitcher fluids from 3 species of Nepenthes, na...  \n",
       "1031  Neuroblastoma is a neural crest-derived embryo...  \n",
       "1059  The current work aimed to detect and identify ...  \n",
       "108   Here we present characterization of fibrin clo...  \n",
       "1095  The ground state of pluripotency is defined as...  \n",
       "\n",
       "[5 rows x 30 columns]"
      ]
     },
     "execution_count": 329,
     "metadata": {},
     "output_type": "execute_result"
    }
   ],
   "source": [
    "df[~df.otherOmicsLink.isna()].head()"
   ]
  },
  {
   "cell_type": "code",
   "execution_count": 19,
   "metadata": {},
   "outputs": [
    {
     "data": {
      "text/plain": [
       "(234, 28)"
      ]
     },
     "execution_count": 19,
     "metadata": {},
     "output_type": "execute_result"
    }
   ],
   "source": [
    "df[~df.otherOmicsLink.isna()].shape"
   ]
  },
  {
   "cell_type": "markdown",
   "metadata": {},
   "source": [
    "## projectDescription"
   ]
  },
  {
   "cell_type": "code",
   "execution_count": 20,
   "metadata": {},
   "outputs": [
    {
     "data": {
      "text/plain": [
       "(7580, 28)"
      ]
     },
     "execution_count": 20,
     "metadata": {},
     "output_type": "execute_result"
    }
   ],
   "source": [
    "df[~df.projectDescription.isna()].shape"
   ]
  },
  {
   "cell_type": "markdown",
   "metadata": {},
   "source": [
    "Let's skip the NLP processing for now and finish reviewing our numerical and categorical data"
   ]
  },
  {
   "cell_type": "markdown",
   "metadata": {},
   "source": [
    "## projectTags"
   ]
  },
  {
   "cell_type": "code",
   "execution_count": 57,
   "metadata": {},
   "outputs": [
    {
     "name": "stdout",
     "output_type": "stream",
     "text": [
      "Num projects unlabeled: 1257\n",
      "Num unique: 34\n",
      "array(['Biological', 'Biomedical', 'Technical',\n",
      "       'Glycoproteomics (B/D-HPP)', 'Metaproteomics',\n",
      "       'Biology/Disease-Driven Human Proteome Project (B/D-HPP)',\n",
      "       'Human Proteome Project',\n",
      "       'Human Brain Proteome Project (HUPO_HBPP) (B/D-HPP)',\n",
      "       'Liver (B/D-HPP)',\n",
      "       'Chromosome-centric Human Proteome Project (C-HPP)',\n",
      "       'Cancer (B/D-HPP)', 'CPTAC Consortium',\n",
      "       'Protein Misfolding and Aggregation (B/D-HPP)',\n",
      "       'China Human Proteome Project (CNHPP)',\n",
      "       'Epigenetic Chromatin (B/D-HPP)',\n",
      "       'Skeletal Muscle Proteome (B/D-HPP)',\n",
      "       'Malaria Host-Pathogen Interaction Center (MaHPIC)',\n",
      "       'PRIME-XS Project', 'Cardiovascular (B/D-HPP)',\n",
      "       'Diabetes (B/D-HPP)', 'ProteomeTools', 'Reference',\n",
      "       'EyeOME (B/D-HPP)', 'Food and Nutrition (B/D-HPP)',\n",
      "       'Kidney Urine (B/D-HPP)',\n",
      "       'Bioinformatics Infrastructure for Life Sciences (BILS) network (Sweden)',\n",
      "       'Extreme Conditions (B/D-HPP)', 'Mitochondria (HPP)',\n",
      "       'Human Induced Pluripotent Stem Cells Initiative',\n",
      "       'Human Immuno-Peptidome Project (HUPO-HIPP)', 'Cardiovascular',\n",
      "       'Highlighted', 'Stems Cells (B/D-HPP)',\n",
      "       'Hydrogen Deuterium Exchange (HDX-MS)'], dtype=object)\n"
     ]
    },
    {
     "data": {
      "image/png": "[encoded data removed]",
      "text/plain": [
       "<Figure size 432x288 with 1 Axes>"
      ]
     },
     "metadata": {
      "needs_background": "light"
     },
     "output_type": "display_data"
    }
   ],
   "source": [
    "print(\"Num projects unlabeled: \" + str(df[~df.projectTags.apply(lambda x: len(x) > 0)].shape[0]))\n",
    "print(\"Num unique: \" + str(len(pd.unique([item for sublist in df.projectTags for item in sublist]))))\n",
    "pprint.pprint(pd.unique([item for sublist in df.projectTags for item in sublist]))\n",
    "freq = nltk.FreqDist([item for sublist in df.projectTags for item in sublist])\n",
    "\n",
    "freq.plot(20, cumulative=False)"
   ]
  },
  {
   "cell_type": "markdown",
   "metadata": {},
   "source": [
    "## ptmNames"
   ]
  },
  {
   "cell_type": "code",
   "execution_count": 22,
   "metadata": {},
   "outputs": [
    {
     "name": "stdout",
     "output_type": "stream",
     "text": [
      "Num unique: 1195\n",
      "array(['iodoacetamide derivatized residue',\n",
      "       'TMT6plex-126 reporter+balance reagent acylated residue',\n",
      "       'monohydroxylated residue', ..., 'Iodoacetamide derivative',\n",
      "       'S-cyano-L-cysteine', 'Dehydro'], dtype=object)\n"
     ]
    },
    {
     "data": {
      "image/png": "[encoded data removed]",
      "text/plain": [
       "<Figure size 432x288 with 1 Axes>"
      ]
     },
     "metadata": {
      "needs_background": "light"
     },
     "output_type": "display_data"
    }
   ],
   "source": [
    "print(\"Num unique: \" + str(len(pd.unique([item for sublist in df.ptmNames for item in sublist]))))\n",
    "pprint.pprint(pd.unique([item for sublist in df.ptmNames for item in sublist]))\n",
    "freq = nltk.FreqDist([item for sublist in df.ptmNames for item in sublist])\n",
    "\n",
    "freq.plot(20, cumulative=False)"
   ]
  },
  {
   "cell_type": "markdown",
   "metadata": {},
   "source": [
    "## publicationDate"
   ]
  },
  {
   "cell_type": "code",
   "execution_count": 33,
   "metadata": {},
   "outputs": [
    {
     "data": {
      "image/png": "[encoded data removed]",
      "text/plain": [
       "<Figure size 432x288 with 1 Axes>"
      ]
     },
     "metadata": {
      "needs_background": "light"
     },
     "output_type": "display_data"
    },
    {
     "name": "stdout",
     "output_type": "stream",
     "text": [
      "We add a plot binned to the month so that we can have an idea of the monthly publication rate:\n"
     ]
    },
    {
     "data": {
      "image/png": "[encoded data removed]",
      "text/plain": [
       "<Figure size 432x288 with 1 Axes>"
      ]
     },
     "metadata": {
      "needs_background": "light"
     },
     "output_type": "display_data"
    }
   ],
   "source": [
    "df.publicationDate = df.publicationDate.astype(\"datetime64\")\n",
    "plt.hist(df.publicationDate, bins='auto')\n",
    "plt.show()\n",
    "\n",
    "print(\"We add a plot binned to the month so that we can have an idea of the monthly publication rate:\")\n",
    "df.publicationDate.groupby([df.publicationDate.dt.year, df.publicationDate.dt.month]).count().plot(kind=\"bar\")\n",
    "plt.show()"
   ]
  },
  {
   "cell_type": "markdown",
   "metadata": {},
   "source": [
    "## quantificationMethods"
   ]
  },
  {
   "cell_type": "code",
   "execution_count": 56,
   "metadata": {},
   "outputs": [
    {
     "name": "stdout",
     "output_type": "stream",
     "text": [
      "Num projects unlabeled: 3966\n",
      "Num unique: 63\n",
      "['TMT' 'Label free' 'Peptide counting'\n",
      " 'MS1 intensity based label-free quantification method' 'Spectrum counting'\n",
      " 'SILAC' 'Variable modification' 'Peptide mass tolerance setting'\n",
      " 'Identified by peptide fragmentation' 'Peptide selection'\n",
      " 'Peptide search engine output parameter' 'Data-independent acquisition'\n",
      " 'Normalized Spectral Abundance Factor - NSAF' 'TIC'\n",
      " 'Protein Abundance Index - PAI' 'Spectrum count/molecular weight'\n",
      " 'Parallel Reaction Monitoring (PRM)' 'iTRAQ'\n",
      " 'APEX - Absolute Protein Expression' 'emPAI' 'AQUA' 'SWATH MS'\n",
      " 'Isotope labeling' 'Spectral Abundance Factor - SAF' 'precursor ion'\n",
      " 'MS1 based isotope labeling' 'Gel spot volume'\n",
      " 'Gel-based quantification method' 'Heavy stable isotope label' 'ICAT'\n",
      " 'Stable isotope ratio' 'Gel-free quantification method'\n",
      " 'Mass spectrometry' 'All peptides matched' 'Absolute quantification unit'\n",
      " 'LC-MS label-free quantitation analysis' 'Mascot score' 'MSE' '18O'\n",
      " 'HDMSE' 'Relative quantification unit' 'Quantification method' 'SRM/MRM'\n",
      " 'Enzyme digestion' 'MaxQuant percentage' 'ICPL'\n",
      " 'MaxQuant percentage threshold for valid modification location'\n",
      " 'MS2 ion mass tolerance' 'product ion intensity'\n",
      " 'Two Dimensional Polyacrylamide Gel Electrophoresis']\n"
     ]
    },
    {
     "data": {
      "image/png": "[encoded data removed]",
      "text/plain": [
       "<Figure size 432x288 with 1 Axes>"
      ]
     },
     "metadata": {
      "needs_background": "light"
     },
     "output_type": "display_data"
    }
   ],
   "source": [
    "print(\"Num projects unlabeled: \" + str(df[~df.quantificationMethods.apply(lambda x: len(x) > 0)].shape[0]))\n",
    "print(\"Num unique: \" + str(len(pd.unique([item for sublist in df.quantificationMethods for item in sublist]))))\n",
    "print(pd.unique([item for sublist in df.quantificationMethods for item in sublist])[:50])\n",
    "freq = nltk.FreqDist([item for sublist in df.quantificationMethods for item in sublist])\n",
    "\n",
    "freq.plot(30, cumulative=False)"
   ]
  },
  {
   "cell_type": "markdown",
   "metadata": {},
   "source": [
    "## species"
   ]
  },
  {
   "cell_type": "code",
   "execution_count": 91,
   "metadata": {},
   "outputs": [
    {
     "name": "stdout",
     "output_type": "stream",
     "text": [
      "Num projects unlabeled: 15\n",
      "Num unique: 1527\n",
      "['Neosartorya fumigata (Aspergillus fumigatus)' 'Pseudotsuga menziesii'\n",
      " 'Mus musculus (Mouse)' \"Saccharomyces cerevisiae (Baker's yeast)\"\n",
      " 'Bacillus subtilis subsp. subtilis str. NCIB 3610' 'Homo sapiens (Human)'\n",
      " 'Microbacterium sp.' 'Leishmania donovani' 'Camellia sinensis'\n",
      " 'uncultured soil bacterium S0137' 'Fasciola hepatica (Liver fluke)'\n",
      " 'Staphylococcus haemolyticus' 'Cyanea capillata' 'Nemopilema nomurai'\n",
      " 'Drosophila melanogaster (Fruit fly)' 'Ctenopharyngodon idella'\n",
      " 'Nepenthes ampullaria' 'Nepenthes rafflesiana' 'Nepenthes x hookeriana'\n",
      " 'Rattus norvegicus (Rat)']\n"
     ]
    },
    {
     "data": {
      "image/png": "[encoded data removed]",
      "text/plain": [
       "<Figure size 432x288 with 1 Axes>"
      ]
     },
     "metadata": {
      "needs_background": "light"
     },
     "output_type": "display_data"
    },
    {
     "name": "stdout",
     "output_type": "stream",
     "text": [
      "Num species == 1: 6976\n",
      "Num species > 1: 595\n"
     ]
    },
    {
     "data": {
      "image/png": "[encoded data removed]",
      "text/plain": [
       "<Figure size 432x288 with 1 Axes>"
      ]
     },
     "metadata": {
      "needs_background": "light"
     },
     "output_type": "display_data"
    }
   ],
   "source": [
    "print(\"Num projects unlabeled: \" + str(df[~df.species.apply(lambda x: len(x) > 0)].shape[0]))\n",
    "print(\"Num unique: \" + str(len(pd.unique([item for sublist in df.species for item in sublist]))))\n",
    "print(pd.unique([item for sublist in df.species for item in sublist])[:20])\n",
    "freq = nltk.FreqDist([item for sublist in df.species for item in sublist])\n",
    "\n",
    "freq.plot(30, cumulative=False)\n",
    "plt.hist(df.species.apply(lambda x: len(x)), bins=list(range(0,11)), cumulative=False)\n",
    "print(\"Num species == 1: {}\".format(df[df.species.apply(lambda x: len(x) == 1)].shape[0]))\n",
    "print(\"Num species > 1: {}\".format(df[df.species.apply(lambda x: len(x) > 1)].shape[0]))"
   ]
  },
  {
   "cell_type": "markdown",
   "metadata": {},
   "source": [
    "## tissues"
   ]
  },
  {
   "cell_type": "code",
   "execution_count": 54,
   "metadata": {},
   "outputs": [
    {
     "name": "stdout",
     "output_type": "stream",
     "text": [
      "Num projects unlabeled: 2770\n",
      "Num unique: 640\n",
      "['embryo' 'brain' 'urinary bladder' 'cell culture' 'JURKAT cell'\n",
      " 'blood plasma' 'leaf' 'cerebrospinal fluid' 'nematocyst' 'trophoblast'\n",
      " 'oocyte' 'Egg' 'tooth enamel' 'urine' 'pitcher secretion' 'lung'\n",
      " 'bone marrow' 'mycelium' 'spleen' 'lymph node' 'blood serum' 'kidney'\n",
      " 'skin' 'dental plaque' 'whole plant' 'whole body' 'gastric epithelium'\n",
      " 'blood platelet' 'blood' 'erythrocyte' 'HeLa cell' 'cell lysate' 'liver'\n",
      " 'heart' 'retinal pigment epithelium cell' 'colon' 'midgut'\n",
      " 'haematopoietic stem cells' 'thymus' 'small intestine' 'prostate gland'\n",
      " 'gut' 'thyroid gland' 'stomach' 'longissimus' 'testis' 'lymph' 'uterus'\n",
      " 'retina' 'pancreas']\n"
     ]
    },
    {
     "data": {
      "image/png": "[encoded data removed]",
      "text/plain": [
       "<Figure size 432x288 with 1 Axes>"
      ]
     },
     "metadata": {
      "needs_background": "light"
     },
     "output_type": "display_data"
    }
   ],
   "source": [
    "print(\"Num projects unlabeled: \" + str(df[~df.tissues.apply(lambda x: len(x) > 0)].shape[0]))\n",
    "print(\"Num unique: \" + str(len(pd.unique([item for sublist in df.tissues for item in sublist]))))\n",
    "print(pd.unique([item for sublist in df.tissues for item in sublist])[:50])\n",
    "freq = nltk.FreqDist([item for sublist in df.tissues for item in sublist])\n",
    "\n",
    "freq.plot(30, cumulative=False)"
   ]
  },
  {
   "cell_type": "markdown",
   "metadata": {},
   "source": [
    "## What can we try?\n",
    "\n",
    "Understanding which species an experiment contains is something that we're trying to do using Param-Medic and short runs of the Tide peptide search tool. Basically, this takes a raw experiment file and tries to infer which species that experiment contains by trying to query it with the FASTA database of each species and seeing which performs the best. Tide produces a series of peptide detections, and we expect that searching with the correct species type will produce the most detections. However, this can't handle experiments with mixtures of species. Another issue is that similar species like mouse and rat can be confused. And each tide search is expensive. Maybe an NLP classification could help distinguish between single and multi-species experiments. Then we could flag the complex experiments for manual insepction. If that works well then we could get fancy and try performing a multi-target classification to fully automate species selection."
   ]
  },
  {
   "cell_type": "markdown",
   "metadata": {},
   "source": [
    "# Modeling"
   ]
  },
  {
   "cell_type": "code",
   "execution_count": 296,
   "metadata": {},
   "outputs": [],
   "source": [
    "import pandas as pd\n",
    "import numpy as np\n",
    "import xgboost as xgb\n",
    "from tqdm import tqdm\n",
    "from sklearn.svm import SVC\n",
    "from sklearn import preprocessing, feature_selection, decomposition, model_selection, metrics, pipeline\n",
    "from sklearn.metrics import roc_curve, precision_recall_curve, auc, make_scorer, recall_score, accuracy_score, precision_score, confusion_matrix\n",
    "from sklearn.model_selection import RandomizedSearchCV, GridSearchCV, train_test_split, StratifiedKFold\n",
    "from sklearn.feature_extraction.text import TfidfVectorizer, CountVectorizer\n",
    "from sklearn.decomposition import TruncatedSVD\n",
    "from sklearn.linear_model import LogisticRegression\n",
    "from sklearn.naive_bayes import MultinomialNB\n",
    "from nltk import word_tokenize\n",
    "from nltk.corpus import stopwords\n",
    "import time\n",
    "\n",
    "stop_words = stopwords.words('english')"
   ]
  },
  {
   "cell_type": "markdown",
   "metadata": {},
   "source": [
    "Let's try using the descriptions to do a simple binary classification of mixture vs non-mixture."
   ]
  },
  {
   "cell_type": "code",
   "execution_count": 2,
   "metadata": {},
   "outputs": [],
   "source": [
    "df = pd.read_json(\"raw/PRIDE_projects.json\")"
   ]
  },
  {
   "cell_type": "code",
   "execution_count": 3,
   "metadata": {},
   "outputs": [
    {
     "name": "stdout",
     "output_type": "stream",
     "text": [
      "Trimming out 15 rows without species labels\n"
     ]
    }
   ],
   "source": [
    "# Trim out unlabeled data\n",
    "print(\"Trimming out {} rows without species labels\".format(df[df.species.apply(lambda x: len(x) == 0)].shape[0]))\n",
    "df = df[df.species.apply(lambda x: len(x) > 0)]"
   ]
  },
  {
   "cell_type": "code",
   "execution_count": 4,
   "metadata": {},
   "outputs": [],
   "source": [
    "df['multiSpecies'] = df.species.apply(lambda x: len(x) > 1)"
   ]
  },
  {
   "cell_type": "markdown",
   "metadata": {},
   "source": [
    "I'll combine the descriptive texts into one by concatenating them"
   ]
  },
  {
   "cell_type": "code",
   "execution_count": 5,
   "metadata": {},
   "outputs": [],
   "source": [
    "df[\"text\"] = df.apply(lambda row: '{} {} {}'.format(row['projectDescription'], row['sampleProcessingProtocol'], row['dataProcessingProtocol']), axis=1)"
   ]
  },
  {
   "cell_type": "code",
   "execution_count": 6,
   "metadata": {},
   "outputs": [
    {
     "data": {
      "text/html": [
       "<div>\n",
       "<style scoped>\n",
       "    .dataframe tbody tr th:only-of-type {\n",
       "        vertical-align: middle;\n",
       "    }\n",
       "\n",
       "    .dataframe tbody tr th {\n",
       "        vertical-align: top;\n",
       "    }\n",
       "\n",
       "    .dataframe thead th {\n",
       "        text-align: right;\n",
       "    }\n",
       "</style>\n",
       "<table border=\"1\" class=\"dataframe\">\n",
       "  <thead>\n",
       "    <tr style=\"text-align: right;\">\n",
       "      <th></th>\n",
       "      <th>text</th>\n",
       "      <th>multiSpecies</th>\n",
       "    </tr>\n",
       "  </thead>\n",
       "  <tbody>\n",
       "    <tr>\n",
       "      <th>0</th>\n",
       "      <td>Neutrophil-derived extracellular vesicles have...</td>\n",
       "      <td>False</td>\n",
       "    </tr>\n",
       "    <tr>\n",
       "      <th>1</th>\n",
       "      <td>Objectives: to characterize and to better unde...</td>\n",
       "      <td>False</td>\n",
       "    </tr>\n",
       "    <tr>\n",
       "      <th>10</th>\n",
       "      <td>Abstract Here we present IPSA, an innovative w...</td>\n",
       "      <td>True</td>\n",
       "    </tr>\n",
       "    <tr>\n",
       "      <th>100</th>\n",
       "      <td>Biofilms  are  structured communities of  tigh...</td>\n",
       "      <td>False</td>\n",
       "    </tr>\n",
       "    <tr>\n",
       "      <th>1000</th>\n",
       "      <td>A quantitative label-free proteome analysis of...</td>\n",
       "      <td>False</td>\n",
       "    </tr>\n",
       "  </tbody>\n",
       "</table>\n",
       "</div>"
      ],
      "text/plain": [
       "                                                   text  multiSpecies\n",
       "0     Neutrophil-derived extracellular vesicles have...         False\n",
       "1     Objectives: to characterize and to better unde...         False\n",
       "10    Abstract Here we present IPSA, an innovative w...          True\n",
       "100   Biofilms  are  structured communities of  tigh...         False\n",
       "1000  A quantitative label-free proteome analysis of...         False"
      ]
     },
     "execution_count": 6,
     "metadata": {},
     "output_type": "execute_result"
    }
   ],
   "source": [
    "train = df[[\"text\", \"multiSpecies\"]]\n",
    "train.head()"
   ]
  },
  {
   "cell_type": "code",
   "execution_count": 30,
   "metadata": {},
   "outputs": [],
   "source": [
    "lbl_enc = preprocessing.LabelEncoder()\n",
    "#lbl_enc = preprocessing.LabelBinarizer()\n",
    "y = lbl_enc.fit_transform(train.multiSpecies.values)"
   ]
  },
  {
   "cell_type": "code",
   "execution_count": 31,
   "metadata": {},
   "outputs": [],
   "source": [
    "xtrain_tmp, xtest, ytrain_tmp, ytest = train_test_split(train.text.values,\n",
    "                                                y, \n",
    "                                                stratify=y,\n",
    "                                                random_state=1, \n",
    "                                                test_size=0.1,\n",
    "                                                shuffle=True)\n",
    "\n",
    "xtrain, xvalid, ytrain, yvalid = train_test_split(xtrain_tmp,\n",
    "                                                  ytrain_tmp, \n",
    "                                                  stratify=ytrain_tmp,\n",
    "                                                  random_state=3, \n",
    "                                                  test_size=0.1,\n",
    "                                                  shuffle=True)"
   ]
  },
  {
   "cell_type": "code",
   "execution_count": 32,
   "metadata": {},
   "outputs": [
    {
     "name": "stdout",
     "output_type": "stream",
     "text": [
      "(6131,)\n",
      "(682,)\n",
      "(758,)\n"
     ]
    }
   ],
   "source": [
    "print(xtrain.shape)\n",
    "print(xvalid.shape)\n",
    "print(xtest.shape)"
   ]
  },
  {
   "cell_type": "code",
   "execution_count": 38,
   "metadata": {},
   "outputs": [
    {
     "name": "stdout",
     "output_type": "stream",
     "text": [
      "ytrain class distribution\n",
      "0    0.921546\n",
      "1    0.078454\n",
      "dtype: float64\n",
      "yvalid class distribution\n",
      "0    0.920821\n",
      "1    0.079179\n",
      "dtype: float64\n",
      "ytest class distribution\n",
      "0    0.920844\n",
      "1    0.079156\n",
      "dtype: float64\n"
     ]
    }
   ],
   "source": [
    "print('ytrain class distribution')\n",
    "print(pd.value_counts(ytrain, normalize=True))\n",
    "print('yvalid class distribution')\n",
    "print(pd.value_counts(yvalid, normalize=True))\n",
    "print('ytest class distribution')\n",
    "print(pd.value_counts(ytest, normalize=True))"
   ]
  },
  {
   "cell_type": "code",
   "execution_count": 75,
   "metadata": {},
   "outputs": [],
   "source": [
    "def adjusted_classes(y_scores, t):\n",
    "    \"\"\"\n",
    "    This function adjusts class predictions based on the prediction threshold (t).\n",
    "    Will only work for binary classification problems.\n",
    "    \"\"\"\n",
    "    return [1 if y >= t else 0 for y in y_scores]"
   ]
  },
  {
   "cell_type": "code",
   "execution_count": 76,
   "metadata": {},
   "outputs": [],
   "source": [
    "def precision_recall_threshold(p, r, thresholds, t=0.5):\n",
    "    \"\"\"\n",
    "    plots the precision recall curve and shows the current value for each\n",
    "    by identifying the classifier's threshold (t).\n",
    "    \"\"\"\n",
    "    \n",
    "    # generate new class predictions based on the adjusted_classes\n",
    "    # function above and view the resulting confusion matrix.\n",
    "    y_pred_adj = adjusted_classes(y_scores, t)\n",
    "    print(pd.DataFrame(confusion_matrix(y_test, y_pred_adj),\n",
    "                       columns=['pred_neg', 'pred_pos'], \n",
    "                       index=['neg', 'pos']))\n",
    "    \n",
    "    # plot the curve\n",
    "    plt.figure(figsize=(8,8))\n",
    "    plt.title(\"Precision and Recall curve ^ = current threshold\")\n",
    "    plt.step(r, p, color='b', alpha=0.2,\n",
    "             where='post')\n",
    "    plt.fill_between(r, p, step='post', alpha=0.2,\n",
    "                     color='b')\n",
    "    plt.ylim([0.5, 1.01]);\n",
    "    plt.xlim([0.5, 1.01]);\n",
    "    plt.xlabel('Recall');\n",
    "    plt.ylabel('Precision');\n",
    "    \n",
    "    # plot the current threshold on the line\n",
    "    close_default_clf = np.argmin(np.abs(thresholds - t))\n",
    "    plt.plot(r[close_default_clf], p[close_default_clf], '^', c='k',\n",
    "            markersize=15)"
   ]
  },
  {
   "cell_type": "markdown",
   "metadata": {},
   "source": [
    "Our first model is a simple TF-IDF (Term Frequency - Inverse Document Frequency) followed by a simple Logistic Regression."
   ]
  },
  {
   "cell_type": "code",
   "execution_count": 62,
   "metadata": {},
   "outputs": [
    {
     "name": "stdout",
     "output_type": "stream",
     "text": [
      "Runtime: 27.252 seconds\n"
     ]
    }
   ],
   "source": [
    "tic = time.time()\n",
    "\n",
    "tfv = TfidfVectorizer(min_df=3, max_features=None,\n",
    "                      strip_accents='unicode', analyzer='word', token_pattern=r'\\w{1,}',\n",
    "                      ngram_range=(1, 3), use_idf=1, smooth_idf=1, sublinear_tf=1,\n",
    "                      stop_words='english')\n",
    "\n",
    "# Fitting TF-IDF to both training and test sets (semi-supervised learning)\n",
    "tfv.fit(list(xtrain) + list(xvalid))\n",
    "xtrain_tfv =  tfv.transform(xtrain) \n",
    "xvalid_tfv = tfv.transform(xvalid)\n",
    "\n",
    "toc = time.time()\n",
    "print(\"Runtime: {:.3f} seconds\".format(toc - tic))"
   ]
  },
  {
   "cell_type": "code",
   "execution_count": 310,
   "metadata": {},
   "outputs": [
    {
     "name": "stdout",
     "output_type": "stream",
     "text": [
      "(6131,)\n",
      "(6131, 274185)\n",
      "(6131, 10)\n"
     ]
    },
    {
     "name": "stderr",
     "output_type": "stream",
     "text": [
      "/opt/conda/lib/python3.6/site-packages/sklearn/feature_selection/univariate_selection.py:114: UserWarning: Features [0 0 0 0 0 0 0 0 0 0 0 0 0 0 0 0 0 0 0 0 0 0 0 0 0 0 0 0 0 0 0 0 0 0 0 0 0\n",
      " 0 0 0 0 0 0 0 0 0 0 0 0 0 0 0 0 0 0 0 0 0 0 0 0 0 0 0 0 0 0 0 0 0 0 0 0 0\n",
      " 0 0] are constant.\n",
      "  UserWarning)\n",
      "/opt/conda/lib/python3.6/site-packages/sklearn/feature_selection/univariate_selection.py:115: RuntimeWarning: invalid value encountered in true_divide\n",
      "  f = msb / msw\n"
     ]
    }
   ],
   "source": [
    "feature_selection.f_classif(xtrain_tfv, ytrain)[0]\n",
    "# Create an SelectKBest object to select features with two best ANOVA F-Values\n",
    "fvalue_selector = feature_selection.SelectKBest(feature_selection.f_classif, k=10)\n",
    "\n",
    "# Apply the SelectKBest object to the features and target\n",
    "xtrain_tfv_kbest = fvalue_selector.fit_transform(xtrain_tfv, ytrain)\n",
    "#print(xtrain_tfv)\n",
    "print(xtrain.shape)\n",
    "print(xtrain_tfv.shape)\n",
    "print(xtrain_tfv_kbest.shape)\n",
    "#print(xtrain)"
   ]
  },
  {
   "cell_type": "code",
   "execution_count": 71,
   "metadata": {},
   "outputs": [
    {
     "name": "stderr",
     "output_type": "stream",
     "text": [
      "/opt/conda/lib/python3.6/site-packages/sklearn/linear_model/logistic.py:433: FutureWarning: Default solver will be changed to 'lbfgs' in 0.22. Specify a solver to silence this warning.\n",
      "  FutureWarning)\n"
     ]
    },
    {
     "name": "stdout",
     "output_type": "stream",
     "text": [
      "logloss: 0.263 \n",
      "Runtime: 1.262 seconds\n"
     ]
    }
   ],
   "source": [
    "tic = time.time()\n",
    "\n",
    "# Fitting a simple Logistic Regression on TFIDF\n",
    "clf = LogisticRegression(C=1.0)\n",
    "clf.fit(xtrain_tfv, ytrain)\n",
    "predictions = clf.predict_proba(xvalid_tfv)\n",
    "\n",
    "print (\"logloss: %0.3f \" % metrics.log_loss(yvalid, predictions))\n",
    "\n",
    "toc = time.time()\n",
    "print(\"Runtime: {:.3f} seconds\".format(toc - tic))"
   ]
  },
  {
   "cell_type": "markdown",
   "metadata": {},
   "source": [
    "Instead of using TF-IDF, we can also use word counts as features. This can be done using CountVectorizer from scikit-learn."
   ]
  },
  {
   "cell_type": "code",
   "execution_count": 60,
   "metadata": {},
   "outputs": [
    {
     "name": "stdout",
     "output_type": "stream",
     "text": [
      "Runtime: 23.989 seconds\n"
     ]
    }
   ],
   "source": [
    "tic = time.time()\n",
    "\n",
    "ctv = CountVectorizer(analyzer='word',\n",
    "                      token_pattern=r'\\w{1,}',\n",
    "                      ngram_range=(1, 3),\n",
    "                      stop_words = 'english')\n",
    "\n",
    "# Fitting Count Vectorizer to both training and test sets (semi-supervised learning)\n",
    "ctv.fit(list(xtrain) + list(xvalid))\n",
    "xtrain_ctv =  ctv.transform(xtrain) \n",
    "xvalid_ctv = ctv.transform(xvalid)\n",
    "\n",
    "toc = time.time()\n",
    "print(\"Runtime: {:.3f} seconds\".format(toc - tic))"
   ]
  },
  {
   "cell_type": "code",
   "execution_count": 61,
   "metadata": {},
   "outputs": [
    {
     "name": "stderr",
     "output_type": "stream",
     "text": [
      "/opt/conda/lib/python3.6/site-packages/sklearn/linear_model/logistic.py:433: FutureWarning: Default solver will be changed to 'lbfgs' in 0.22. Specify a solver to silence this warning.\n",
      "  FutureWarning)\n"
     ]
    },
    {
     "name": "stdout",
     "output_type": "stream",
     "text": [
      "logloss: 0.442 \n",
      "Runtime: 17.962 seconds\n"
     ]
    }
   ],
   "source": [
    "tic = time.time()\n",
    "\n",
    "# Fitting a simple Logistic Regression on Counts\n",
    "clf = LogisticRegression(C=1.0)\n",
    "clf.fit(xtrain_ctv, ytrain)\n",
    "predictions = clf.predict_proba(xvalid_ctv)\n",
    "\n",
    "print (\"logloss: %0.3f \" % metrics.log_loss(yvalid, predictions))\n",
    "\n",
    "toc = time.time()\n",
    "print(\"Runtime: {:.3f} seconds\".format(toc - tic))"
   ]
  },
  {
   "cell_type": "markdown",
   "metadata": {},
   "source": [
    "Next, let's see what happens when we use naive bayes on these two datasets:"
   ]
  },
  {
   "cell_type": "code",
   "execution_count": 70,
   "metadata": {},
   "outputs": [
    {
     "name": "stdout",
     "output_type": "stream",
     "text": [
      "logloss: 0.997 \n",
      "Runtime: 0.083 seconds\n"
     ]
    }
   ],
   "source": [
    "tic = time.time()\n",
    "\n",
    "# Fitting a simple Naive Bayes on TFIDF\n",
    "clf = MultinomialNB()\n",
    "clf.fit(xtrain_tfv, ytrain)\n",
    "predictions = clf.predict_proba(xvalid_tfv)\n",
    "\n",
    "print (\"logloss: %0.3f \" % metrics.log_loss(yvalid, predictions))\n",
    "\n",
    "toc = time.time()\n",
    "print(\"Runtime: {:.3f} seconds\".format(toc - tic))"
   ]
  },
  {
   "cell_type": "code",
   "execution_count": 63,
   "metadata": {},
   "outputs": [
    {
     "name": "stdout",
     "output_type": "stream",
     "text": [
      "logloss: 2.800 \n",
      "Runtime: 0.196 seconds\n"
     ]
    }
   ],
   "source": [
    "tic = time.time()\n",
    "\n",
    "# Fitting a simple Naive Bayes on Counts\n",
    "clf = MultinomialNB()\n",
    "clf.fit(xtrain_ctv, ytrain)\n",
    "predictions = clf.predict_proba(xvalid_ctv)\n",
    "\n",
    "print (\"logloss: %0.3f \" % metrics.log_loss(yvalid, predictions))\n",
    "\n",
    "toc = time.time()\n",
    "print(\"Runtime: {:.3f} seconds\".format(toc - tic))"
   ]
  },
  {
   "cell_type": "markdown",
   "metadata": {},
   "source": [
    "Naive bayes does not do well. Now let's try training an SVM."
   ]
  },
  {
   "cell_type": "code",
   "execution_count": 64,
   "metadata": {},
   "outputs": [
    {
     "name": "stdout",
     "output_type": "stream",
     "text": [
      "Runtime: 18.878 seconds\n"
     ]
    }
   ],
   "source": [
    "tic = time.time()\n",
    "\n",
    "# Apply SVD, I chose 120 components. 120-200 components are good enough for SVM model.\n",
    "svd = decomposition.TruncatedSVD(n_components=120)\n",
    "svd.fit(xtrain_tfv)\n",
    "xtrain_svd = svd.transform(xtrain_tfv)\n",
    "xvalid_svd = svd.transform(xvalid_tfv)\n",
    "\n",
    "# Scale the data obtained from SVD. Renaming variable to reuse without scaling.\n",
    "scl = preprocessing.StandardScaler()\n",
    "scl.fit(xtrain_svd)\n",
    "xtrain_svd_scl = scl.transform(xtrain_svd)\n",
    "xvalid_svd_scl = scl.transform(xvalid_svd)\n",
    "\n",
    "toc = time.time()\n",
    "print(\"Runtime: {:.3f} seconds\".format(toc - tic))"
   ]
  },
  {
   "cell_type": "code",
   "execution_count": 72,
   "metadata": {},
   "outputs": [
    {
     "name": "stdout",
     "output_type": "stream",
     "text": [
      "logloss: 0.277 \n",
      "Runtime: 16.380 seconds\n"
     ]
    }
   ],
   "source": [
    "tic = time.time()\n",
    "\n",
    "# Fitting a simple SVM\n",
    "clf = SVC(C=1.0, probability=True) # since we need probabilities\n",
    "clf.fit(xtrain_svd_scl, ytrain)\n",
    "predictions = clf.predict_proba(xvalid_svd_scl)\n",
    "\n",
    "print (\"logloss: %0.3f \" % metrics.log_loss(yvalid, predictions))\n",
    "\n",
    "toc = time.time()\n",
    "print(\"Runtime: {:.3f} seconds\".format(toc - tic))"
   ]
  },
  {
   "cell_type": "markdown",
   "metadata": {},
   "source": [
    "The SVM does well but not as well as the Logistic Regression. Next, onto XGBoost:"
   ]
  },
  {
   "cell_type": "code",
   "execution_count": 133,
   "metadata": {},
   "outputs": [
    {
     "name": "stdout",
     "output_type": "stream",
     "text": [
      "logloss: 0.247 \n",
      "Runtime: 9.553 seconds\n"
     ]
    }
   ],
   "source": [
    "tic = time.time()\n",
    "\n",
    "# Fitting a simple xgboost on tf-idf\n",
    "clf = xgb.XGBClassifier(silent=False,\n",
    "                        learning_rate=0.1,\n",
    "                        n_estimators=100,\n",
    "                        max_depth=3,\n",
    "                        subsample=1.0,\n",
    "                        colsample_bytree=1.0,\n",
    "                        gamma=1.0,\n",
    "                        nthread=16)\n",
    "\n",
    "clf.fit(xtrain_tfv.tocsc(), ytrain)\n",
    "predictions = clf.predict_proba(xvalid_tfv.tocsc())\n",
    "\n",
    "print (\"logloss: %0.3f \" % metrics.log_loss(yvalid, predictions))\n",
    "\n",
    "toc = time.time()\n",
    "print(\"Runtime: {:.3f} seconds\".format(toc - tic))"
   ]
  },
  {
   "cell_type": "code",
   "execution_count": 134,
   "metadata": {},
   "outputs": [
    {
     "name": "stdout",
     "output_type": "stream",
     "text": [
      "logloss: 0.243 \n",
      "Runtime: 39.106 seconds\n"
     ]
    }
   ],
   "source": [
    "tic = time.time()\n",
    "\n",
    "# Fitting a simple xgboost on count vectorizer\n",
    "clf = xgb.XGBClassifier(silent=False,\n",
    "                        learning_rate=0.1,\n",
    "                        n_estimators=100,\n",
    "                        max_depth=3,\n",
    "                        subsample=1.0,\n",
    "                        colsample_bytree=1.0,\n",
    "                        gamma=1.0,\n",
    "                        nthread=16)\n",
    "\n",
    "clf.fit(xtrain_ctv.tocsc(), ytrain)\n",
    "predictions = clf.predict_proba(xvalid_ctv.tocsc())\n",
    "\n",
    "print (\"logloss: %0.3f \" % metrics.log_loss(yvalid, predictions))\n",
    "\n",
    "toc = time.time()\n",
    "print(\"Runtime: {:.3f} seconds\".format(toc - tic))"
   ]
  },
  {
   "cell_type": "code",
   "execution_count": 146,
   "metadata": {},
   "outputs": [
    {
     "name": "stdout",
     "output_type": "stream",
     "text": [
      "logloss: 0.264 \n",
      "Runtime: 0.463 seconds\n"
     ]
    }
   ],
   "source": [
    "tic = time.time()\n",
    "\n",
    "# Fitting a simple xgboost on count vectorizer\n",
    "clf = xgb.XGBClassifier(silent=False,\n",
    "                        learning_rate=0.1,\n",
    "                        n_estimators=100,\n",
    "                        max_depth=3,\n",
    "                        subsample=1.0,\n",
    "                        colsample_bytree=1.0,\n",
    "                        gamma=1.0,\n",
    "                        nthread=16)\n",
    "\n",
    "clf.fit(xtrain_svd, ytrain)\n",
    "predictions = clf.predict_proba(xvalid_svd)\n",
    "\n",
    "print (\"logloss: %0.3f \" % metrics.log_loss(yvalid, predictions))\n",
    "\n",
    "toc = time.time()\n",
    "print(\"Runtime: {:.3f} seconds\".format(toc - tic))"
   ]
  },
  {
   "cell_type": "code",
   "execution_count": 213,
   "metadata": {},
   "outputs": [
    {
     "name": "stdout",
     "output_type": "stream",
     "text": [
      "logloss: 0.266 \n",
      "Runtime: 0.473 seconds\n"
     ]
    }
   ],
   "source": [
    "tic = time.time()\n",
    "\n",
    "# Fitting a simple xgboost on tf-idf svd features\n",
    "clf = xgb.XGBClassifier(max_depth=3,\n",
    "                        n_estimators=100,\n",
    "                        colsample_bytree=1.0, \n",
    "                        subsample=1.0,\n",
    "                        nthread=16,\n",
    "                        learning_rate=0.1)\n",
    "clf.fit(xtrain_svd, ytrain)\n",
    "predictions = clf.predict_proba(xvalid_svd)\n",
    "\n",
    "print (\"logloss: %0.3f \" % metrics.log_loss(yvalid, predictions))\n",
    "\n",
    "toc = time.time()\n",
    "print(\"Runtime: {:.3f} seconds\".format(toc - tic))"
   ]
  },
  {
   "cell_type": "markdown",
   "metadata": {},
   "source": [
    "Optimize the XGBoost model for tf-idf"
   ]
  },
  {
   "cell_type": "code",
   "execution_count": 208,
   "metadata": {},
   "outputs": [
    {
     "name": "stdout",
     "output_type": "stream",
     "text": [
      "logloss: 0.247 \n",
      "Runtime: 9.347 seconds\n"
     ]
    }
   ],
   "source": [
    "tic = time.time()\n",
    "\n",
    "# Fitting a simple xgboost on tf-idf\n",
    "clf = xgb.XGBClassifier(silent=False,\n",
    "                        learning_rate=0.1,\n",
    "                        n_estimators=100,\n",
    "                        max_depth=3,\n",
    "                        subsample=1.0,\n",
    "                        colsample_bytree=1.0,\n",
    "                        gamma=1,\n",
    "                        nthread=16)\n",
    "\n",
    "clf.fit(xtrain_tfv.tocsc(), ytrain)\n",
    "predictions = clf.predict_proba(xvalid_tfv.tocsc())\n",
    "\n",
    "print (\"logloss: %0.3f \" % metrics.log_loss(yvalid, predictions))\n",
    "\n",
    "toc = time.time()\n",
    "print(\"Runtime: {:.3f} seconds\".format(toc - tic))"
   ]
  },
  {
   "cell_type": "markdown",
   "metadata": {},
   "source": [
    "Optimize the XGBoost model for SVD"
   ]
  },
  {
   "cell_type": "code",
   "execution_count": 198,
   "metadata": {},
   "outputs": [
    {
     "name": "stdout",
     "output_type": "stream",
     "text": [
      "logloss: 0.258 \n",
      "Runtime: 0.446 seconds\n"
     ]
    }
   ],
   "source": [
    "tic = time.time()\n",
    "\n",
    "clf = xgb.XGBClassifier(silent=False,\n",
    "                        learning_rate=0.1,\n",
    "                        n_estimators=100,\n",
    "                        max_depth=3,\n",
    "                        subsample=0.8,\n",
    "                        colsample_bytree=1.0,\n",
    "                        gamma=5,\n",
    "                        nthread=16)\n",
    "\n",
    "clf.fit(xtrain_svd, ytrain)\n",
    "predictions = clf.predict_proba(xvalid_svd)\n",
    "\n",
    "print (\"logloss: %0.3f \" % metrics.log_loss(yvalid, predictions))\n",
    "\n",
    "toc = time.time()\n",
    "print(\"Runtime: {:.3f} seconds\".format(toc - tic))"
   ]
  },
  {
   "cell_type": "markdown",
   "metadata": {},
   "source": [
    "Now we'll run a randomized search over our remaining parameters"
   ]
  },
  {
   "cell_type": "code",
   "execution_count": 314,
   "metadata": {},
   "outputs": [
    {
     "name": "stderr",
     "output_type": "stream",
     "text": [
      "/opt/conda/lib/python3.6/site-packages/sklearn/metrics/classification.py:1817: RuntimeWarning: divide by zero encountered in log\n",
      "  loss = -(transformed_labels * np.log(y_pred)).sum(axis=1)\n",
      "/opt/conda/lib/python3.6/site-packages/sklearn/metrics/classification.py:1817: RuntimeWarning: invalid value encountered in multiply\n",
      "  loss = -(transformed_labels * np.log(y_pred)).sum(axis=1)\n",
      "/opt/conda/lib/python3.6/site-packages/sklearn/metrics/classification.py:1817: RuntimeWarning: divide by zero encountered in log\n",
      "  loss = -(transformed_labels * np.log(y_pred)).sum(axis=1)\n",
      "/opt/conda/lib/python3.6/site-packages/sklearn/metrics/classification.py:1817: RuntimeWarning: invalid value encountered in multiply\n",
      "  loss = -(transformed_labels * np.log(y_pred)).sum(axis=1)\n",
      "/opt/conda/lib/python3.6/site-packages/sklearn/metrics/classification.py:1817: RuntimeWarning: divide by zero encountered in log\n",
      "  loss = -(transformed_labels * np.log(y_pred)).sum(axis=1)\n",
      "/opt/conda/lib/python3.6/site-packages/sklearn/metrics/classification.py:1817: RuntimeWarning: divide by zero encountered in log\n",
      "  loss = -(transformed_labels * np.log(y_pred)).sum(axis=1)\n",
      "/opt/conda/lib/python3.6/site-packages/sklearn/metrics/classification.py:1817: RuntimeWarning: invalid value encountered in multiply\n",
      "  loss = -(transformed_labels * np.log(y_pred)).sum(axis=1)\n",
      "/opt/conda/lib/python3.6/site-packages/sklearn/metrics/classification.py:1817: RuntimeWarning: divide by zero encountered in log\n",
      "  loss = -(transformed_labels * np.log(y_pred)).sum(axis=1)\n",
      "/opt/conda/lib/python3.6/site-packages/sklearn/metrics/classification.py:1817: RuntimeWarning: invalid value encountered in multiply\n",
      "  loss = -(transformed_labels * np.log(y_pred)).sum(axis=1)\n",
      "/opt/conda/lib/python3.6/site-packages/sklearn/model_selection/_search.py:791: RuntimeWarning: invalid value encountered in subtract\n",
      "  array_means[:, np.newaxis]) ** 2,\n"
     ]
    },
    {
     "name": "stdout",
     "output_type": "stream",
     "text": [
      "Best score: -0.252\n",
      "Best parameters set:\n",
      "\tcolsample_bytree: 0.81719869180932425\n",
      "\tgamma: 0.99484421842366211\n",
      "\tlearning_rate: 0.095329585289678137\n",
      "\tsubsample: 0.94542153193268985\n"
     ]
    }
   ],
   "source": [
    "param_dist = {\n",
    "    \"learning_rate\": np.power(10.0, np.random.uniform(-3, 3, 100)),\n",
    "    \"subsample\": scipy.stats.uniform(loc=0.8, scale=0.2),\n",
    "    \"colsample_bytree\": scipy.stats.uniform(loc=0.8, scale=0.2),\n",
    "    \"gamma\": scipy.stats.expon(scale=5),\n",
    "}\n",
    "\n",
    "clf = xgb.XGBClassifier(silent=False,\n",
    "                        learning_rate=0.01,\n",
    "                        n_estimators=100,\n",
    "                        max_depth=3,\n",
    "                        subsample=0.8,\n",
    "                        colsample_bytree=1.0,\n",
    "                        gamma=1.0,\n",
    "                        nthread=16)\n",
    "\n",
    "model = RandomizedSearchCV(estimator=clf,\n",
    "                           param_distributions=param_dist,\n",
    "                           scoring=make_scorer(metrics.log_loss, greater_is_better=False, needs_threshold=True),\n",
    "                           n_iter=15, cv=3, iid=False)\n",
    "\n",
    "model.fit(xtrain_tfv, ytrain)  # we can use the full data here but im only using xtrain. \n",
    "\n",
    "print(\"Best score: %0.3f\" % model.best_score_)\n",
    "print(\"Best parameters set:\")\n",
    "best_parameters = model.best_estimator_.get_params()\n",
    "for param_name in sorted(param_dist.keys()):\n",
    "    print(\"\\t%s: %r\" % (param_name, best_parameters[param_name]))"
   ]
  },
  {
   "cell_type": "markdown",
   "metadata": {},
   "source": [
    "### Model evaluation\n",
    "\n",
    "The logistic loss provides a reasonable score to optimize on for a first pass, but we need to look at other metrics and think about what properties are important for us in the practical application of our model. In our proposed use case, we want to split our processing pipeline between datasets that can be safely evaluated using a single FASTA database, and those that need closer inspection. This means that we want a low false negative rate so that multi-species data isn't passed to the single-species pipeline. However, our training data is heavily skewed toward single-species examples, meaning that our model will likely be biased toward reporting negatives (i.e. single species classifications) and will thus be biased towards a high false negative rate. For this reason we'll want to look at precision and recall scores in order to tune our discriminator threshold towards a more acceptable false negative rate."
   ]
  },
  {
   "cell_type": "code",
   "execution_count": 315,
   "metadata": {},
   "outputs": [
    {
     "name": "stdout",
     "output_type": "stream",
     "text": [
      "logloss: 0.249 \n",
      "recall: 0.111 \n",
      "precision: 0.667 \n"
     ]
    }
   ],
   "source": [
    "predictions = model.predict_proba(xvalid_tfv)[:, 1]\n",
    "print (\"logloss: %0.3f \" % metrics.log_loss(yvalid, predictions))\n",
    "\n",
    "# Tune threshold to get better recall\n",
    "bin_predictions = adjusted_classes(predictions, t=0.35)\n",
    "print(\"recall: %0.3f \" % metrics.recall_score(yvalid, bin_predictions))\n",
    "print(\"precision: %0.3f \" % metrics.precision_score(yvalid, bin_predictions))"
   ]
  },
  {
   "cell_type": "code",
   "execution_count": 316,
   "metadata": {},
   "outputs": [],
   "source": [
    "p, r, thresholds = metrics.precision_recall_curve(yvalid, predictions)"
   ]
  },
  {
   "cell_type": "code",
   "execution_count": 317,
   "metadata": {},
   "outputs": [],
   "source": [
    "from inspect import signature\n",
    "\n",
    "def precision_recall_threshold(p, r, thresholds, y_scores, y_test, t=0.5):\n",
    "    \"\"\"\n",
    "    plots the precision recall curve and shows the current value for each\n",
    "    by identifying the classifier's threshold (t).\n",
    "    \"\"\"\n",
    "    \n",
    "    # generate new class predictions based on the adjusted_classes\n",
    "    # function above and view the resulting confusion matrix.\n",
    "    y_pred_adj = adjusted_classes(y_scores, t)\n",
    "    print(pd.DataFrame(confusion_matrix(y_test, y_pred_adj),\n",
    "                       columns=['pred_neg', 'pred_pos'], \n",
    "                       index=['neg', 'pos']))\n",
    "    \n",
    "    # plot the curve\n",
    "    plt.figure(figsize=(8,8))\n",
    "    plt.title(\"Precision and Recall curve ^ = current threshold\")\n",
    "    step_kwargs = ({'step': 'post'}\n",
    "                   if 'step' in signature(plt.fill_between).parameters\n",
    "                   else {})\n",
    "    plt.step(r, p, color='b', alpha=0.2,\n",
    "             where='post')\n",
    "    plt.fill_between(r, p, alpha=0.2, color='b', **step_kwargs)\n",
    "    plt.ylim([0.0, 1.01]);\n",
    "    plt.xlim([0.0, 1.01]);\n",
    "    plt.xlabel('Recall');\n",
    "    plt.ylabel('Precision');\n",
    "    \n",
    "    # plot the current threshold on the line\n",
    "    close_default_clf = np.argmin(np.abs(thresholds - t))\n",
    "    plt.plot(r[close_default_clf], p[close_default_clf], '^', c='k',\n",
    "            markersize=15)"
   ]
  },
  {
   "cell_type": "code",
   "execution_count": 325,
   "metadata": {},
   "outputs": [
    {
     "name": "stdout",
     "output_type": "stream",
     "text": [
      "     pred_neg  pred_pos\n",
      "neg       628         0\n",
      "pos        50         4\n"
     ]
    },
    {
     "data": {
      "image/png": "[encoded data removed]",
      "text/plain": [
       "<Figure size 576x576 with 1 Axes>"
      ]
     },
     "metadata": {
      "needs_background": "light"
     },
     "output_type": "display_data"
    }
   ],
   "source": [
    "precision_recall_threshold(p, r, thresholds, predictions, yvalid, t=0.42)"
   ]
  },
  {
   "cell_type": "markdown",
   "metadata": {},
   "source": [
    "As expected, our model is leaning heavily towards classifying true positives at the expense of true negatives. Let's tune the threshold until we have a minimal false negative rate."
   ]
  },
  {
   "cell_type": "code",
   "execution_count": 326,
   "metadata": {},
   "outputs": [
    {
     "name": "stdout",
     "output_type": "stream",
     "text": [
      "     pred_neg  pred_pos\n",
      "neg       138       490\n",
      "pos         1        53\n"
     ]
    },
    {
     "data": {
      "image/png": "[encoded data removed]",
      "text/plain": [
       "<Figure size 576x576 with 1 Axes>"
      ]
     },
     "metadata": {
      "needs_background": "light"
     },
     "output_type": "display_data"
    }
   ],
   "source": [
    "precision_recall_threshold(p, r, thresholds, predictions, yvalid, t=0.04)"
   ]
  },
  {
   "cell_type": "markdown",
   "metadata": {},
   "source": [
    "A threshold probability of 0.04 seems to be the optimal value for this model and our application"
   ]
  },
  {
   "cell_type": "code",
   "execution_count": 327,
   "metadata": {},
   "outputs": [],
   "source": [
    "def plot_precision_recall_vs_threshold(precisions, recalls, thresholds):\n",
    "    \"\"\"\n",
    "    Modified from:\n",
    "    Hands-On Machine learning with Scikit-Learn\n",
    "    and TensorFlow; p.89\n",
    "    \"\"\"\n",
    "    plt.figure(figsize=(8, 8))\n",
    "    plt.title(\"Precision and Recall Scores as a function of the decision threshold\")\n",
    "    plt.plot(thresholds, precisions[:-1], \"b--\", label=\"Precision\")\n",
    "    plt.plot(thresholds, recalls[:-1], \"g-\", label=\"Recall\")\n",
    "    plt.ylabel(\"Score\")\n",
    "    plt.xlabel(\"Decision Threshold\")\n",
    "    plt.legend(loc='best')"
   ]
  },
  {
   "cell_type": "code",
   "execution_count": 328,
   "metadata": {},
   "outputs": [
    {
     "data": {
      "image/png": "[encoded data removed]",
      "text/plain": [
       "<Figure size 576x576 with 1 Axes>"
      ]
     },
     "metadata": {
      "needs_background": "light"
     },
     "output_type": "display_data"
    }
   ],
   "source": [
    "plot_precision_recall_vs_threshold(p, r, thresholds)"
   ]
  },
  {
   "cell_type": "markdown",
   "metadata": {},
   "source": [
    "Performing the binary classification here using just word counts or tf-idf gives us some predictive power. However, if we want to use this to flag experiments that can't be safely processed automatically, we want a low false negative rate so that few to none get by. Unfortunately, our multispecies detector is flagging 10x more false positives than true positives, which would be a lot of manual work. This could still be helpful though if we are able to further classify the subset of flagged examples by stacking with another model and more information.\n",
    "\n",
    "We initially stated that we had aspirations to extend the binary classification to a multi-class task. However, the binary classification performance doesn't bode well for our ability to further predict which species make up the multispecies class using our existing feature space. \n",
    "\n",
    "We can try acquiring more data from the full papers and a pretrained model on which to apply transfer learning. The need for more data is consistent with the high variance we see of our train performance being much lower than our validation set performance. Let's try a different feature extraction method, as maybe we're losing information in our existing data that we could preserve and thus improve our performance without collection additional data.\n",
    "\n",
    "We should also check an interpretable model, such as logistic regression with l1 loss, to try understanding what words are providing the most predictive weight. This might provide actionable insight into how to improve our feature selection."
   ]
  },
  {
   "cell_type": "markdown",
   "metadata": {},
   "source": [
    "### Using GloVe embedding"
   ]
  },
  {
   "cell_type": "code",
   "execution_count": 154,
   "metadata": {},
   "outputs": [],
   "source": [
    "# Download GloVe vectors dictionary\n",
    "import urllib.request\n",
    "\n",
    "url = 'http://www-nlp.stanford.edu/data/glove.840B.300d.zip'\n",
    "urllib.request.urlretrieve(url, 'raw/glove.840B.300d.zip')\n",
    "\n",
    "import zipfile\n",
    "zip_ref = zipfile.ZipFile('raw/glove.840B.300d.zip', 'r')\n",
    "zip_ref.extractall('raw')\n",
    "zip_ref.close()"
   ]
  },
  {
   "cell_type": "code",
   "execution_count": 90,
   "metadata": {},
   "outputs": [
    {
     "name": "stderr",
     "output_type": "stream",
     "text": [
      "2196017it [02:05, 17481.18it/s]"
     ]
    },
    {
     "name": "stdout",
     "output_type": "stream",
     "text": [
      "Found 2196016 word vectors.\n"
     ]
    },
    {
     "name": "stderr",
     "output_type": "stream",
     "text": [
      "\n"
     ]
    }
   ],
   "source": [
    "# load the GloVe vectors in a dictionary:\n",
    "\n",
    "embeddings_index = {}\n",
    "f = open('raw/glove.840B.300d.txt')\n",
    "for i, line in enumerate(tqdm(f)):\n",
    "    values = line.split(' ')\n",
    "    word = values[0]\n",
    "    coefs = np.asarray(values[1:], dtype='float32')\n",
    "    embeddings_index[word] = coefs\n",
    "f.close()\n",
    "\n",
    "print('Found %s word vectors.' % len(embeddings_index))"
   ]
  },
  {
   "cell_type": "code",
   "execution_count": 93,
   "metadata": {},
   "outputs": [],
   "source": [
    "# this function creates a normalized vector for the whole sentence\n",
    "def sent2vec(s):\n",
    "    words = str(s).lower()\n",
    "    words = word_tokenize(words)\n",
    "    words = [w for w in words if not w in stop_words]\n",
    "    words = [w for w in words if w.isalpha()]\n",
    "    M = []\n",
    "    for w in words:\n",
    "        try:\n",
    "            M.append(embeddings_index[w])\n",
    "        except:\n",
    "            continue\n",
    "    M = np.array(M)\n",
    "    v = M.sum(axis=0)\n",
    "    if type(v) != np.ndarray:\n",
    "        return np.zeros(300)\n",
    "    return v / np.sqrt((v ** 2).sum())"
   ]
  },
  {
   "cell_type": "code",
   "execution_count": null,
   "metadata": {},
   "outputs": [],
   "source": [
    "# create sentence vectors using the above function for training and validation set\n",
    "xtrain_glove = [sent2vec(x) for x in xtrain]\n",
    "xvalid_glove = [sent2vec(x) for x in xvalid]\n",
    "xtest_glove = [sent2vec(x) for x in xtest]"
   ]
  },
  {
   "cell_type": "code",
   "execution_count": 97,
   "metadata": {},
   "outputs": [],
   "source": [
    "xtrain_glove = np.array(xtrain_glove)\n",
    "xvalid_glove = np.array(xvalid_glove)\n",
    "xtest_glove = np.array(xtest_glove)"
   ]
  },
  {
   "cell_type": "code",
   "execution_count": 99,
   "metadata": {},
   "outputs": [
    {
     "name": "stdout",
     "output_type": "stream",
     "text": [
      "logloss: 0.271 \n"
     ]
    }
   ],
   "source": [
    "# Fitting a simple xgboost on glove features\n",
    "clf = xgb.XGBClassifier(nthread=10, silent=False)\n",
    "clf.fit(xtrain_glove, ytrain)\n",
    "predictions = clf.predict_proba(xvalid_glove)\n",
    "\n",
    "print (\"logloss: %0.3f \" % metrics.log_loss(yvalid, predictions))"
   ]
  },
  {
   "cell_type": "code",
   "execution_count": 100,
   "metadata": {},
   "outputs": [
    {
     "name": "stdout",
     "output_type": "stream",
     "text": [
      "logloss: 0.351 \n"
     ]
    }
   ],
   "source": [
    "# Fitting a simple xgboost on glove features\n",
    "clf = xgb.XGBClassifier(max_depth=7, n_estimators=200, colsample_bytree=0.8, \n",
    "                        subsample=0.8, nthread=10, learning_rate=0.1, silent=False)\n",
    "clf.fit(xtrain_glove, ytrain)\n",
    "predictions = clf.predict_proba(xvalid_glove)\n",
    "\n",
    "print (\"logloss: %0.3f \" % metrics.log_loss(yvalid, predictions))"
   ]
  },
  {
   "cell_type": "markdown",
   "metadata": {},
   "source": [
    "The model using the GloVe embedding seems to perform worse for XGBoost. Maybe this isn't surprising considering that the GloVe dictionary doesn't contain any domain-specific proteomics words. We could verify this by checking what proportion of words in our training set are not in the GloVe dictionary. Let's move on for now -- we'll certainly come back to embeddings when we start trying to run deep nets on the full papers."
   ]
  },
  {
   "cell_type": "markdown",
   "metadata": {},
   "source": [
    "## Test set evaluation\n",
    "\n",
    "We left our best optimized model in the `model` variable. Let's test with that."
   ]
  },
  {
   "cell_type": "code",
   "execution_count": 211,
   "metadata": {},
   "outputs": [],
   "source": [
    "xtest_tfv = tfv.transform(xtest)\n",
    "xtest_ctv = ctv.transform(xtest)"
   ]
  },
  {
   "cell_type": "code",
   "execution_count": 331,
   "metadata": {},
   "outputs": [
    {
     "name": "stdout",
     "output_type": "stream",
     "text": [
      "logloss: 0.168 \n",
      "logloss: 0.249 \n"
     ]
    }
   ],
   "source": [
    "predictions = model.predict_proba(xtrain_tfv.tocsc())\n",
    "print (\"logloss train: %0.3f \" % metrics.log_loss(ytrain, predictions))\n",
    "\n",
    "predictions = model.predict_proba(xvalid_tfv.tocsc())\n",
    "print (\"logloss valid: %0.3f \" % metrics.log_loss(yvalid, predictions))"
   ]
  },
  {
   "cell_type": "code",
   "execution_count": 341,
   "metadata": {},
   "outputs": [
    {
     "name": "stdout",
     "output_type": "stream",
     "text": [
      "logloss test: 0.246 \n",
      "accuracy: 0.923 \n",
      "698 0 58 2\n",
      "recall: 0.050 \n",
      "precision: 0.750 \n",
      "     pred_neg  pred_pos\n",
      "neg       697         1\n",
      "pos        57         3\n"
     ]
    },
    {
     "data": {
      "image/png": "[encoded data removed]",
      "text/plain": [
       "<Figure size 576x576 with 1 Axes>"
      ]
     },
     "metadata": {
      "needs_background": "light"
     },
     "output_type": "display_data"
    },
    {
     "data": {
      "image/png": "[encoded data removed]",
      "text/plain": [
       "<Figure size 576x576 with 1 Axes>"
      ]
     },
     "metadata": {
      "needs_background": "light"
     },
     "output_type": "display_data"
    }
   ],
   "source": [
    "predictions = model.predict_proba(xtest_tfv.tocsc())[:, 1]\n",
    "print (\"logloss test: %0.3f \" % metrics.log_loss(ytest, predictions))\n",
    "\n",
    "bin_predictions = adjusted_classes(predictions, t=0.42)\n",
    "print (\"accuracy: %0.3f \" % metrics.accuracy_score(ytest, pred_binary))\n",
    "tn, fp, fn, tp = metrics.confusion_matrix(ytest, pred_binary).ravel()\n",
    "print(tn, fp, fn, tp)\n",
    "\n",
    "\n",
    "print(\"recall: %0.3f \" % metrics.recall_score(ytest, bin_predictions))\n",
    "print(\"precision: %0.3f \" % metrics.precision_score(ytest, bin_predictions))\n",
    "p, r, thresholds = metrics.precision_recall_curve(ytest, predictions)\n",
    "precision_recall_threshold(p, r, thresholds, predictions, ytest, t=0.42)\n",
    "plot_precision_recall_vs_threshold(p, r, thresholds)"
   ]
  },
  {
   "cell_type": "code",
   "execution_count": null,
   "metadata": {},
   "outputs": [],
   "source": [
    "predictions = model.predict_proba(xtest_ctv.tocsc())\n",
    "print (\"logloss: %0.3f \" % metrics.log_loss(ytest, predictions))\n",
    "\n",
    "pred_binary = np.array([(1 if i else 0) for i in (predictions > 0.5)[:, 1]])\n",
    "print(pred_binary[:5])\n",
    "print(ytest[:5])\n",
    "print (\"accuracy: %0.3f \" % metrics.accuracy_score(ytest, pred_binary))\n",
    "tn, fp, fn, tp = metrics.confusion_matrix(ytest, pred_binary).ravel()\n",
    "(tn, fp, fn, tp)"
   ]
  },
  {
   "cell_type": "markdown",
   "metadata": {},
   "source": [
    "### Summary\n",
    "\n",
    "Before we go collecting a larger dataset, it would be good to perform another survey of the NLP literature for feature extraction methods to ensure that we've fully explored our current dataset.\n",
    "\n",
    "Also, we still need to try some exploration with interpretable models. Writing a quick RNN classifier in keras would be worth attempting on this data before moving on."
   ]
  },
  {
   "cell_type": "markdown",
   "metadata": {},
   "source": [
    "# Next steps\n",
    "\n",
    "- [ ] Turn reference data into URLs for each paper\n",
    "- [ ] Download all papers\n",
    "- [ ] Continue exploration of bibliometric techniques\n",
    "\n",
    "I'd like to better understand how to approach the problem of building proteomics-specific knowledge into existing NLP models.\n",
    "\n",
    "## Using the latest in NLP and bibliometrics\n",
    "\n",
    "This article provides a review of the latest advances in NLP of academic papers: https://www.frontiersin.org/articles/10.3389/frma.2019.00002/full\n",
    "\n",
    "Here's a possible method for handling out-of-vocabulary words by combining Word2Vec with a domain-specific dictionary: Intelligent Word Embeddings https://www.ncbi.nlm.nih.gov/pmc/articles/PMC5771955/\n",
    "\n"
   ]
  }
 ],
 "metadata": {
  "kernelspec": {
   "display_name": "Python 3",
   "language": "python",
   "name": "python3"
  },
  "language_info": {
   "codemirror_mode": {
    "name": "ipython",
    "version": 3
   },
   "file_extension": ".py",
   "mimetype": "text/x-python",
   "name": "python",
   "nbconvert_exporter": "python",
   "pygments_lexer": "ipython3",
   "version": "3.6.7"
  }
 },
 "nbformat": 4,
 "nbformat_minor": 1
}
